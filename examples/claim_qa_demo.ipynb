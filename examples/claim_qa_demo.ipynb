{
 "cells": [
  {
   "cell_type": "markdown",
   "id": "ef2380f7",
   "metadata": {},
   "source": [
    "# Claim-based Question-Answer Hallucination Detection"
   ]
  },
  {
   "cell_type": "markdown",
   "id": "aef6473f",
   "metadata": {},
   "source": [
    "Import necessary packages."
   ]
  },
  {
   "cell_type": "code",
   "execution_count": 1,
   "id": "092eb17f",
   "metadata": {
    "tags": []
   },
   "outputs": [],
   "source": [
    "import time\n",
    "from uqlm.longform.black_box import ClaimQAScorer\n",
    "from uqlm import BlackBoxUQ"
   ]
  },
  {
   "cell_type": "markdown",
   "id": "0678f84c-2fe2-42be-a69b-21f6b4260245",
   "metadata": {
    "tags": []
   },
   "source": [
    "#### Load LLM and device"
   ]
  },
  {
   "cell_type": "code",
   "execution_count": 2,
   "id": "8bd9f1d2-8ff2-4572-bee7-a1cf9db7274d",
   "metadata": {
    "tags": []
   },
   "outputs": [],
   "source": [
    "# from langchain_google_vertexai import ChatVertexAI\n",
    "# llm = ChatVertexAI(model=\"gemini-1.5-flash\")\n",
    "\n",
    "from dotenv import load_dotenv, find_dotenv\n",
    "from langchain_openai import AzureChatOpenAI\n",
    "\n",
    "load_dotenv(find_dotenv())\n",
    "llm = AzureChatOpenAI(\n",
    "    deployment_name=\"gpt-4o-mini\",\n",
    "    openai_api_type=\"azure\",\n",
    "    openai_api_version=\"2024-02-15-preview\",\n",
    "    temperature=1,  # User to set temperature\n",
    ")"
   ]
  },
  {
   "cell_type": "code",
   "execution_count": 3,
   "id": "5b33e73b-04c3-40f1-afb6-0446aa1fbb49",
   "metadata": {
    "tags": []
   },
   "outputs": [
    {
     "name": "stdout",
     "output_type": "stream",
     "text": [
      "Using mps device\n"
     ]
    }
   ],
   "source": [
    "import torch\n",
    "\n",
    "# Set the torch device\n",
    "if torch.cuda.is_available():  # NVIDIA GPU\n",
    "    device = torch.device(\"cuda\")\n",
    "elif torch.backends.mps.is_available():  # macOS\n",
    "    device = torch.device(\"mps\")\n",
    "else:\n",
    "    device = torch.device(\"cpu\")  # CPU\n",
    "print(f\"Using {device.type} device\")"
   ]
  },
  {
   "cell_type": "markdown",
   "id": "850b7add-c6d7-47e3-985e-02380b1de835",
   "metadata": {},
   "source": [
    "#### Setup Prompts and Black Box Scorer"
   ]
  },
  {
   "cell_type": "code",
   "execution_count": 4,
   "id": "4a38c40c-7b4d-4a1c-adda-c3b616542a1a",
   "metadata": {
    "tags": []
   },
   "outputs": [],
   "source": [
    "prompts = [\n",
    "    \"write a paragraph about Paul McCartney\"\n",
    "    # \"write a paragraph about John Lennon\"\n",
    "]"
   ]
  },
  {
   "cell_type": "code",
   "execution_count": 5,
   "id": "4e5d99d5",
   "metadata": {
    "tags": []
   },
   "outputs": [],
   "source": [
    "bb_scorer = BlackBoxUQ(\n",
    "    llm=llm,\n",
    "    max_calls_per_min=500,  # set value to avoid rate limit error\n",
    "    device=device,\n",
    "    scorers=[\"exact_match\"],\n",
    ")"
   ]
  },
  {
   "cell_type": "markdown",
   "id": "3b8878a2",
   "metadata": {},
   "source": [
    "#### Claim-QA class"
   ]
  },
  {
   "cell_type": "code",
   "execution_count": 6,
   "id": "5928f734",
   "metadata": {
    "tags": []
   },
   "outputs": [
    {
     "name": "stdout",
     "output_type": "stream",
     "text": [
      "Claim sets:  [['Paul McCartney is a legendary British musician.', 'Paul McCartney is a songwriter.', 'Paul McCartney is a producer.', 'Paul McCartney is best known as a member of The Beatles.', 'The Beatles is one of the most influential bands in the history of music.', 'Paul McCartney was born on June 18, 1942.', 'Paul McCartney was born in Liverpool, England.', 'Paul McCartney showcased his musical talent from a young age.', \"Paul McCartney played a pivotal role in The Beatles' unparalleled success during the 1960s.\", 'Paul McCartney crafted timeless classics such as \"Hey Jude.\"', 'Paul McCartney crafted timeless classics such as \"Yesterday.\"', 'Paul McCartney crafted timeless classics such as \"Let It Be.\"', \"Paul McCartney embarked on a prolific solo career following The Beatles' breakup in 1970.\", 'Paul McCartney formed the band Wings.', 'Paul McCartney released numerous albums.', \"Paul McCartney's albums further solidified his status as a musical icon.\", \"Paul McCartney's career spans over six decades.\", 'Paul McCartney continues to inspire generations of musicians and fans.', 'Paul McCartney inspires with his innovative compositions.', 'Paul McCartney inspires with his melodic prowess.', 'Paul McCartney inspires with his enduring passion for music.', 'Paul McCartney remains an advocate for various social causes.', 'Paul McCartney remains an advocate for various environmental causes.', 'Paul McCartney reflects his commitment to making a positive impact beyond the realm of entertainment.']]\n",
      "Factoids for ith response:  ['Paul McCartney is a legendary British musician.', 'Paul McCartney is a songwriter.', 'Paul McCartney is a producer.', 'Paul McCartney is best known as a member of The Beatles.', 'The Beatles is one of the most influential bands in the history of music.', 'Paul McCartney was born on June 18, 1942.', 'Paul McCartney was born in Liverpool, England.', 'Paul McCartney showcased his musical talent from a young age.', \"Paul McCartney played a pivotal role in The Beatles' unparalleled success during the 1960s.\", 'Paul McCartney crafted timeless classics such as \"Hey Jude.\"', 'Paul McCartney crafted timeless classics such as \"Yesterday.\"', 'Paul McCartney crafted timeless classics such as \"Let It Be.\"', \"Paul McCartney embarked on a prolific solo career following The Beatles' breakup in 1970.\", 'Paul McCartney formed the band Wings.', 'Paul McCartney released numerous albums.', \"Paul McCartney's albums further solidified his status as a musical icon.\", \"Paul McCartney's career spans over six decades.\", 'Paul McCartney continues to inspire generations of musicians and fans.', 'Paul McCartney inspires with his innovative compositions.', 'Paul McCartney inspires with his melodic prowess.', 'Paul McCartney inspires with his enduring passion for music.', 'Paul McCartney remains an advocate for various social causes.', 'Paul McCartney remains an advocate for various environmental causes.', 'Paul McCartney reflects his commitment to making a positive impact beyond the realm of entertainment.']\n",
      " \n",
      "Prompt:  \n",
      "    \n",
      "    Following this text:\n",
      "    \n",
      "    Paul McCartney is a legendary British musician, songwriter, and producer, best known as a member of The Beatles, one of the most influential bands in the history of music. Born on June 18, 1942, in Liverpool, England, McCartney showcased his musical talent from a young age, and during the 1960s, he played a pivotal role in the band's unparalleled success, crafting timeless classics such as \"Hey Jude,\" \"Yesterday,\" and \"Let It Be.\" Following The Beatles' breakup in 1970, McCartney embarked on a prolific solo career, forming the band Wings and releasing numerous albums that further solidified his status as a musical icon. With a career spanning over six decades, Paul McCartney continues to inspire generations of musicians and fans with his innovative compositions, melodic prowess, and enduring passion for music. He remains an advocate for various social and environmental causes, reflecting his commitment to making a positive impact beyond the realm of entertainment.\n",
      "    \n",
      "    You see the sentence:\n",
      "\n",
      "    Paul McCartney is a legendary British musician.\n",
      "    \n",
      "    Generate a list of 2 questions, that might have generated the sentence in the context of the preceding original text. Please do not use specific facts that appear in the follow-up sentence when formulating the question. Make the questions and answers diverse. Avoid yes-no questions. Output each question in one single line starting with ###. Do not include other formatting.\n",
      "\n",
      "    You should only return the final answer. Now your answer is:\n",
      "    \n",
      " \n",
      "Questions:  [\"What defines Paul McCartney's significance in the music industry?  \\n\", 'How has Paul McCartney influenced the evolution of popular music?']\n",
      " \n",
      "Final questions:  ['\\n    We are writing an answer to the question “write a paragraph about Paul McCartney”. So far we have written:\\n    Paul McCartney is a legendary British musician, songwriter, and producer, best known as a member of The Beatles, one of the most influential bands in the history of music. Born on June 18, 1942, in Liverpool, England, McCartney showcased his musical talent from a young age, and during the 1960s, he played a pivotal role in the band\\'s unparalleled success, crafting timeless classics such as \"Hey Jude,\" \"Yesterday,\" and \"Let It Be.\" Following The Beatles\\' breakup in 1970, McCartney embarked on a prolific solo career, forming the band Wings and releasing numerous albums that further solidified his status as a musical icon. With a career spanning over six decades, Paul McCartney continues to inspire generations of musicians and fans with his innovative compositions, melodic prowess, and enduring passion for music. He remains an advocate for various social and environmental causes, reflecting his commitment to making a positive impact beyond the realm of entertainment.\\n    The next sentence should be the answer to the following question:\\n    What defines Paul McCartney\\'s significance in the music industry?  \\n\\n    Please answer this question. Do not answer in a full sentence. Answer with as few words as possible, e.g. only a name, place, or thing.\\n\\n    You should only return the final answer. Now your answer is:\\n    ', '\\n    We are writing an answer to the question “write a paragraph about Paul McCartney”. So far we have written:\\n    Paul McCartney is a legendary British musician, songwriter, and producer, best known as a member of The Beatles, one of the most influential bands in the history of music. Born on June 18, 1942, in Liverpool, England, McCartney showcased his musical talent from a young age, and during the 1960s, he played a pivotal role in the band\\'s unparalleled success, crafting timeless classics such as \"Hey Jude,\" \"Yesterday,\" and \"Let It Be.\" Following The Beatles\\' breakup in 1970, McCartney embarked on a prolific solo career, forming the band Wings and releasing numerous albums that further solidified his status as a musical icon. With a career spanning over six decades, Paul McCartney continues to inspire generations of musicians and fans with his innovative compositions, melodic prowess, and enduring passion for music. He remains an advocate for various social and environmental causes, reflecting his commitment to making a positive impact beyond the realm of entertainment.\\n    The next sentence should be the answer to the following question:\\n    How has Paul McCartney influenced the evolution of popular music?\\n    Please answer this question. Do not answer in a full sentence. Answer with as few words as possible, e.g. only a name, place, or thing.\\n\\n    You should only return the final answer. Now your answer is:\\n    ']\n",
      " \n",
      "Prompt:  \n",
      "    \n",
      "    Following this text:\n",
      "    \n",
      "    Paul McCartney is a legendary British musician, songwriter, and producer, best known as a member of The Beatles, one of the most influential bands in the history of music. Born on June 18, 1942, in Liverpool, England, McCartney showcased his musical talent from a young age, and during the 1960s, he played a pivotal role in the band's unparalleled success, crafting timeless classics such as \"Hey Jude,\" \"Yesterday,\" and \"Let It Be.\" Following The Beatles' breakup in 1970, McCartney embarked on a prolific solo career, forming the band Wings and releasing numerous albums that further solidified his status as a musical icon. With a career spanning over six decades, Paul McCartney continues to inspire generations of musicians and fans with his innovative compositions, melodic prowess, and enduring passion for music. He remains an advocate for various social and environmental causes, reflecting his commitment to making a positive impact beyond the realm of entertainment.\n",
      "    \n",
      "    You see the sentence:\n",
      "\n",
      "    Paul McCartney is a songwriter.\n",
      "    \n",
      "    Generate a list of 2 questions, that might have generated the sentence in the context of the preceding original text. Please do not use specific facts that appear in the follow-up sentence when formulating the question. Make the questions and answers diverse. Avoid yes-no questions. Output each question in one single line starting with ###. Do not include other formatting.\n",
      "\n",
      "    You should only return the final answer. Now your answer is:\n",
      "    \n",
      " \n",
      "Questions:  ['What roles has Paul McCartney played in the music industry throughout his career?  \\n', 'How has Paul McCartney contributed to the musical landscape over the decades?  ']\n",
      " \n",
      "Final questions:  ['\\n    We are writing an answer to the question “write a paragraph about Paul McCartney”. So far we have written:\\n    Paul McCartney is a legendary British musician, songwriter, and producer, best known as a member of The Beatles, one of the most influential bands in the history of music. Born on June 18, 1942, in Liverpool, England, McCartney showcased his musical talent from a young age, and during the 1960s, he played a pivotal role in the band\\'s unparalleled success, crafting timeless classics such as \"Hey Jude,\" \"Yesterday,\" and \"Let It Be.\" Following The Beatles\\' breakup in 1970, McCartney embarked on a prolific solo career, forming the band Wings and releasing numerous albums that further solidified his status as a musical icon. With a career spanning over six decades, Paul McCartney continues to inspire generations of musicians and fans with his innovative compositions, melodic prowess, and enduring passion for music. He remains an advocate for various social and environmental causes, reflecting his commitment to making a positive impact beyond the realm of entertainment.\\n    The next sentence should be the answer to the following question:\\n    What roles has Paul McCartney played in the music industry throughout his career?  \\n\\n    Please answer this question. Do not answer in a full sentence. Answer with as few words as possible, e.g. only a name, place, or thing.\\n\\n    You should only return the final answer. Now your answer is:\\n    ', '\\n    We are writing an answer to the question “write a paragraph about Paul McCartney”. So far we have written:\\n    Paul McCartney is a legendary British musician, songwriter, and producer, best known as a member of The Beatles, one of the most influential bands in the history of music. Born on June 18, 1942, in Liverpool, England, McCartney showcased his musical talent from a young age, and during the 1960s, he played a pivotal role in the band\\'s unparalleled success, crafting timeless classics such as \"Hey Jude,\" \"Yesterday,\" and \"Let It Be.\" Following The Beatles\\' breakup in 1970, McCartney embarked on a prolific solo career, forming the band Wings and releasing numerous albums that further solidified his status as a musical icon. With a career spanning over six decades, Paul McCartney continues to inspire generations of musicians and fans with his innovative compositions, melodic prowess, and enduring passion for music. He remains an advocate for various social and environmental causes, reflecting his commitment to making a positive impact beyond the realm of entertainment.\\n    The next sentence should be the answer to the following question:\\n    How has Paul McCartney contributed to the musical landscape over the decades?  \\n    Please answer this question. Do not answer in a full sentence. Answer with as few words as possible, e.g. only a name, place, or thing.\\n\\n    You should only return the final answer. Now your answer is:\\n    ']\n",
      " \n",
      "Prompt:  \n",
      "    \n",
      "    Following this text:\n",
      "    \n",
      "    Paul McCartney is a legendary British musician, songwriter, and producer, best known as a member of The Beatles, one of the most influential bands in the history of music. Born on June 18, 1942, in Liverpool, England, McCartney showcased his musical talent from a young age, and during the 1960s, he played a pivotal role in the band's unparalleled success, crafting timeless classics such as \"Hey Jude,\" \"Yesterday,\" and \"Let It Be.\" Following The Beatles' breakup in 1970, McCartney embarked on a prolific solo career, forming the band Wings and releasing numerous albums that further solidified his status as a musical icon. With a career spanning over six decades, Paul McCartney continues to inspire generations of musicians and fans with his innovative compositions, melodic prowess, and enduring passion for music. He remains an advocate for various social and environmental causes, reflecting his commitment to making a positive impact beyond the realm of entertainment.\n",
      "    \n",
      "    You see the sentence:\n",
      "\n",
      "    Paul McCartney is a producer.\n",
      "    \n",
      "    Generate a list of 2 questions, that might have generated the sentence in the context of the preceding original text. Please do not use specific facts that appear in the follow-up sentence when formulating the question. Make the questions and answers diverse. Avoid yes-no questions. Output each question in one single line starting with ###. Do not include other formatting.\n",
      "\n",
      "    You should only return the final answer. Now your answer is:\n",
      "    \n",
      " \n",
      "Questions:  ['What roles did Paul McCartney take on in his music career besides being a member of The Beatles?  \\n', 'In what ways has Paul McCartney contributed to the music industry beyond songwriting and performing?']\n",
      " \n",
      "Final questions:  ['\\n    We are writing an answer to the question “write a paragraph about Paul McCartney”. So far we have written:\\n    Paul McCartney is a legendary British musician, songwriter, and producer, best known as a member of The Beatles, one of the most influential bands in the history of music. Born on June 18, 1942, in Liverpool, England, McCartney showcased his musical talent from a young age, and during the 1960s, he played a pivotal role in the band\\'s unparalleled success, crafting timeless classics such as \"Hey Jude,\" \"Yesterday,\" and \"Let It Be.\" Following The Beatles\\' breakup in 1970, McCartney embarked on a prolific solo career, forming the band Wings and releasing numerous albums that further solidified his status as a musical icon. With a career spanning over six decades, Paul McCartney continues to inspire generations of musicians and fans with his innovative compositions, melodic prowess, and enduring passion for music. He remains an advocate for various social and environmental causes, reflecting his commitment to making a positive impact beyond the realm of entertainment.\\n    The next sentence should be the answer to the following question:\\n    What roles did Paul McCartney take on in his music career besides being a member of The Beatles?  \\n\\n    Please answer this question. Do not answer in a full sentence. Answer with as few words as possible, e.g. only a name, place, or thing.\\n\\n    You should only return the final answer. Now your answer is:\\n    ', '\\n    We are writing an answer to the question “write a paragraph about Paul McCartney”. So far we have written:\\n    Paul McCartney is a legendary British musician, songwriter, and producer, best known as a member of The Beatles, one of the most influential bands in the history of music. Born on June 18, 1942, in Liverpool, England, McCartney showcased his musical talent from a young age, and during the 1960s, he played a pivotal role in the band\\'s unparalleled success, crafting timeless classics such as \"Hey Jude,\" \"Yesterday,\" and \"Let It Be.\" Following The Beatles\\' breakup in 1970, McCartney embarked on a prolific solo career, forming the band Wings and releasing numerous albums that further solidified his status as a musical icon. With a career spanning over six decades, Paul McCartney continues to inspire generations of musicians and fans with his innovative compositions, melodic prowess, and enduring passion for music. He remains an advocate for various social and environmental causes, reflecting his commitment to making a positive impact beyond the realm of entertainment.\\n    The next sentence should be the answer to the following question:\\n    In what ways has Paul McCartney contributed to the music industry beyond songwriting and performing?\\n    Please answer this question. Do not answer in a full sentence. Answer with as few words as possible, e.g. only a name, place, or thing.\\n\\n    You should only return the final answer. Now your answer is:\\n    ']\n",
      " \n",
      "Prompt:  \n",
      "    \n",
      "    Following this text:\n",
      "    \n",
      "    Paul McCartney is a legendary British musician, songwriter, and producer, best known as a member of The Beatles, one of the most influential bands in the history of music. Born on June 18, 1942, in Liverpool, England, McCartney showcased his musical talent from a young age, and during the 1960s, he played a pivotal role in the band's unparalleled success, crafting timeless classics such as \"Hey Jude,\" \"Yesterday,\" and \"Let It Be.\" Following The Beatles' breakup in 1970, McCartney embarked on a prolific solo career, forming the band Wings and releasing numerous albums that further solidified his status as a musical icon. With a career spanning over six decades, Paul McCartney continues to inspire generations of musicians and fans with his innovative compositions, melodic prowess, and enduring passion for music. He remains an advocate for various social and environmental causes, reflecting his commitment to making a positive impact beyond the realm of entertainment.\n",
      "    \n",
      "    You see the sentence:\n",
      "\n",
      "    Paul McCartney is best known as a member of The Beatles.\n",
      "    \n",
      "    Generate a list of 2 questions, that might have generated the sentence in the context of the preceding original text. Please do not use specific facts that appear in the follow-up sentence when formulating the question. Make the questions and answers diverse. Avoid yes-no questions. Output each question in one single line starting with ###. Do not include other formatting.\n",
      "\n",
      "    You should only return the final answer. Now your answer is:\n",
      "    \n",
      " \n",
      "Questions:  ['What significant role did Paul McCartney play in the music industry?  \\n', 'Why is Paul McCartney considered a legendary figure in music history?']\n",
      " \n",
      "Final questions:  ['\\n    We are writing an answer to the question “write a paragraph about Paul McCartney”. So far we have written:\\n    Paul McCartney is a legendary British musician, songwriter, and producer, best known as a member of The Beatles, one of the most influential bands in the history of music. Born on June 18, 1942, in Liverpool, England, McCartney showcased his musical talent from a young age, and during the 1960s, he played a pivotal role in the band\\'s unparalleled success, crafting timeless classics such as \"Hey Jude,\" \"Yesterday,\" and \"Let It Be.\" Following The Beatles\\' breakup in 1970, McCartney embarked on a prolific solo career, forming the band Wings and releasing numerous albums that further solidified his status as a musical icon. With a career spanning over six decades, Paul McCartney continues to inspire generations of musicians and fans with his innovative compositions, melodic prowess, and enduring passion for music. He remains an advocate for various social and environmental causes, reflecting his commitment to making a positive impact beyond the realm of entertainment.\\n    The next sentence should be the answer to the following question:\\n    What significant role did Paul McCartney play in the music industry?  \\n\\n    Please answer this question. Do not answer in a full sentence. Answer with as few words as possible, e.g. only a name, place, or thing.\\n\\n    You should only return the final answer. Now your answer is:\\n    ', '\\n    We are writing an answer to the question “write a paragraph about Paul McCartney”. So far we have written:\\n    Paul McCartney is a legendary British musician, songwriter, and producer, best known as a member of The Beatles, one of the most influential bands in the history of music. Born on June 18, 1942, in Liverpool, England, McCartney showcased his musical talent from a young age, and during the 1960s, he played a pivotal role in the band\\'s unparalleled success, crafting timeless classics such as \"Hey Jude,\" \"Yesterday,\" and \"Let It Be.\" Following The Beatles\\' breakup in 1970, McCartney embarked on a prolific solo career, forming the band Wings and releasing numerous albums that further solidified his status as a musical icon. With a career spanning over six decades, Paul McCartney continues to inspire generations of musicians and fans with his innovative compositions, melodic prowess, and enduring passion for music. He remains an advocate for various social and environmental causes, reflecting his commitment to making a positive impact beyond the realm of entertainment.\\n    The next sentence should be the answer to the following question:\\n    Why is Paul McCartney considered a legendary figure in music history?\\n    Please answer this question. Do not answer in a full sentence. Answer with as few words as possible, e.g. only a name, place, or thing.\\n\\n    You should only return the final answer. Now your answer is:\\n    ']\n",
      " \n",
      "Prompt:  \n",
      "    \n",
      "    Following this text:\n",
      "    \n",
      "    Paul McCartney is a legendary British musician, songwriter, and producer, best known as a member of The Beatles, one of the most influential bands in the history of music. Born on June 18, 1942, in Liverpool, England, McCartney showcased his musical talent from a young age, and during the 1960s, he played a pivotal role in the band's unparalleled success, crafting timeless classics such as \"Hey Jude,\" \"Yesterday,\" and \"Let It Be.\" Following The Beatles' breakup in 1970, McCartney embarked on a prolific solo career, forming the band Wings and releasing numerous albums that further solidified his status as a musical icon. With a career spanning over six decades, Paul McCartney continues to inspire generations of musicians and fans with his innovative compositions, melodic prowess, and enduring passion for music. He remains an advocate for various social and environmental causes, reflecting his commitment to making a positive impact beyond the realm of entertainment.\n",
      "    \n",
      "    You see the sentence:\n",
      "\n",
      "    The Beatles is one of the most influential bands in the history of music.\n",
      "    \n",
      "    Generate a list of 2 questions, that might have generated the sentence in the context of the preceding original text. Please do not use specific facts that appear in the follow-up sentence when formulating the question. Make the questions and answers diverse. Avoid yes-no questions. Output each question in one single line starting with ###. Do not include other formatting.\n",
      "\n",
      "    You should only return the final answer. Now your answer is:\n",
      "    \n",
      " \n",
      "Questions:  ['What impact has Paul McCartney had on the music industry throughout his career?  \\n', 'How is The Beatles regarded in terms of their influence on musicians and music history?']\n",
      " \n",
      "Final questions:  ['\\n    We are writing an answer to the question “write a paragraph about Paul McCartney”. So far we have written:\\n    Paul McCartney is a legendary British musician, songwriter, and producer, best known as a member of The Beatles, one of the most influential bands in the history of music. Born on June 18, 1942, in Liverpool, England, McCartney showcased his musical talent from a young age, and during the 1960s, he played a pivotal role in the band\\'s unparalleled success, crafting timeless classics such as \"Hey Jude,\" \"Yesterday,\" and \"Let It Be.\" Following The Beatles\\' breakup in 1970, McCartney embarked on a prolific solo career, forming the band Wings and releasing numerous albums that further solidified his status as a musical icon. With a career spanning over six decades, Paul McCartney continues to inspire generations of musicians and fans with his innovative compositions, melodic prowess, and enduring passion for music. He remains an advocate for various social and environmental causes, reflecting his commitment to making a positive impact beyond the realm of entertainment.\\n    The next sentence should be the answer to the following question:\\n    What impact has Paul McCartney had on the music industry throughout his career?  \\n\\n    Please answer this question. Do not answer in a full sentence. Answer with as few words as possible, e.g. only a name, place, or thing.\\n\\n    You should only return the final answer. Now your answer is:\\n    ', '\\n    We are writing an answer to the question “write a paragraph about Paul McCartney”. So far we have written:\\n    Paul McCartney is a legendary British musician, songwriter, and producer, best known as a member of The Beatles, one of the most influential bands in the history of music. Born on June 18, 1942, in Liverpool, England, McCartney showcased his musical talent from a young age, and during the 1960s, he played a pivotal role in the band\\'s unparalleled success, crafting timeless classics such as \"Hey Jude,\" \"Yesterday,\" and \"Let It Be.\" Following The Beatles\\' breakup in 1970, McCartney embarked on a prolific solo career, forming the band Wings and releasing numerous albums that further solidified his status as a musical icon. With a career spanning over six decades, Paul McCartney continues to inspire generations of musicians and fans with his innovative compositions, melodic prowess, and enduring passion for music. He remains an advocate for various social and environmental causes, reflecting his commitment to making a positive impact beyond the realm of entertainment.\\n    The next sentence should be the answer to the following question:\\n    How is The Beatles regarded in terms of their influence on musicians and music history?\\n    Please answer this question. Do not answer in a full sentence. Answer with as few words as possible, e.g. only a name, place, or thing.\\n\\n    You should only return the final answer. Now your answer is:\\n    ']\n",
      " \n",
      "Prompt:  \n",
      "    \n",
      "    Following this text:\n",
      "    \n",
      "    Paul McCartney is a legendary British musician, songwriter, and producer, best known as a member of The Beatles, one of the most influential bands in the history of music. Born on June 18, 1942, in Liverpool, England, McCartney showcased his musical talent from a young age, and during the 1960s, he played a pivotal role in the band's unparalleled success, crafting timeless classics such as \"Hey Jude,\" \"Yesterday,\" and \"Let It Be.\" Following The Beatles' breakup in 1970, McCartney embarked on a prolific solo career, forming the band Wings and releasing numerous albums that further solidified his status as a musical icon. With a career spanning over six decades, Paul McCartney continues to inspire generations of musicians and fans with his innovative compositions, melodic prowess, and enduring passion for music. He remains an advocate for various social and environmental causes, reflecting his commitment to making a positive impact beyond the realm of entertainment.\n",
      "    \n",
      "    You see the sentence:\n",
      "\n",
      "    Paul McCartney was born on June 18, 1942.\n",
      "    \n",
      "    Generate a list of 2 questions, that might have generated the sentence in the context of the preceding original text. Please do not use specific facts that appear in the follow-up sentence when formulating the question. Make the questions and answers diverse. Avoid yes-no questions. Output each question in one single line starting with ###. Do not include other formatting.\n",
      "\n",
      "    You should only return the final answer. Now your answer is:\n",
      "    \n",
      " \n",
      "Questions:  ['When and where was Paul McCartney born?  \\n', 'What significant events marked the early life of Paul McCartney?']\n",
      " \n",
      "Final questions:  ['\\n    We are writing an answer to the question “write a paragraph about Paul McCartney”. So far we have written:\\n    Paul McCartney is a legendary British musician, songwriter, and producer, best known as a member of The Beatles, one of the most influential bands in the history of music. Born on June 18, 1942, in Liverpool, England, McCartney showcased his musical talent from a young age, and during the 1960s, he played a pivotal role in the band\\'s unparalleled success, crafting timeless classics such as \"Hey Jude,\" \"Yesterday,\" and \"Let It Be.\" Following The Beatles\\' breakup in 1970, McCartney embarked on a prolific solo career, forming the band Wings and releasing numerous albums that further solidified his status as a musical icon. With a career spanning over six decades, Paul McCartney continues to inspire generations of musicians and fans with his innovative compositions, melodic prowess, and enduring passion for music. He remains an advocate for various social and environmental causes, reflecting his commitment to making a positive impact beyond the realm of entertainment.\\n    The next sentence should be the answer to the following question:\\n    When and where was Paul McCartney born?  \\n\\n    Please answer this question. Do not answer in a full sentence. Answer with as few words as possible, e.g. only a name, place, or thing.\\n\\n    You should only return the final answer. Now your answer is:\\n    ', '\\n    We are writing an answer to the question “write a paragraph about Paul McCartney”. So far we have written:\\n    Paul McCartney is a legendary British musician, songwriter, and producer, best known as a member of The Beatles, one of the most influential bands in the history of music. Born on June 18, 1942, in Liverpool, England, McCartney showcased his musical talent from a young age, and during the 1960s, he played a pivotal role in the band\\'s unparalleled success, crafting timeless classics such as \"Hey Jude,\" \"Yesterday,\" and \"Let It Be.\" Following The Beatles\\' breakup in 1970, McCartney embarked on a prolific solo career, forming the band Wings and releasing numerous albums that further solidified his status as a musical icon. With a career spanning over six decades, Paul McCartney continues to inspire generations of musicians and fans with his innovative compositions, melodic prowess, and enduring passion for music. He remains an advocate for various social and environmental causes, reflecting his commitment to making a positive impact beyond the realm of entertainment.\\n    The next sentence should be the answer to the following question:\\n    What significant events marked the early life of Paul McCartney?\\n    Please answer this question. Do not answer in a full sentence. Answer with as few words as possible, e.g. only a name, place, or thing.\\n\\n    You should only return the final answer. Now your answer is:\\n    ']\n",
      " \n",
      "Prompt:  \n",
      "    \n",
      "    Following this text:\n",
      "    \n",
      "    Paul McCartney is a legendary British musician, songwriter, and producer, best known as a member of The Beatles, one of the most influential bands in the history of music. Born on June 18, 1942, in Liverpool, England, McCartney showcased his musical talent from a young age, and during the 1960s, he played a pivotal role in the band's unparalleled success, crafting timeless classics such as \"Hey Jude,\" \"Yesterday,\" and \"Let It Be.\" Following The Beatles' breakup in 1970, McCartney embarked on a prolific solo career, forming the band Wings and releasing numerous albums that further solidified his status as a musical icon. With a career spanning over six decades, Paul McCartney continues to inspire generations of musicians and fans with his innovative compositions, melodic prowess, and enduring passion for music. He remains an advocate for various social and environmental causes, reflecting his commitment to making a positive impact beyond the realm of entertainment.\n",
      "    \n",
      "    You see the sentence:\n",
      "\n",
      "    Paul McCartney was born in Liverpool, England.\n",
      "    \n",
      "    Generate a list of 2 questions, that might have generated the sentence in the context of the preceding original text. Please do not use specific facts that appear in the follow-up sentence when formulating the question. Make the questions and answers diverse. Avoid yes-no questions. Output each question in one single line starting with ###. Do not include other formatting.\n",
      "\n",
      "    You should only return the final answer. Now your answer is:\n",
      "    \n",
      " \n",
      "Questions:  ['Where did Paul McCartney spend his early years?  \\n', 'What is the birthplace of the legendary musician Paul McCartney?']\n",
      " \n",
      "Final questions:  ['\\n    We are writing an answer to the question “write a paragraph about Paul McCartney”. So far we have written:\\n    Paul McCartney is a legendary British musician, songwriter, and producer, best known as a member of The Beatles, one of the most influential bands in the history of music. Born on June 18, 1942, in Liverpool, England, McCartney showcased his musical talent from a young age, and during the 1960s, he played a pivotal role in the band\\'s unparalleled success, crafting timeless classics such as \"Hey Jude,\" \"Yesterday,\" and \"Let It Be.\" Following The Beatles\\' breakup in 1970, McCartney embarked on a prolific solo career, forming the band Wings and releasing numerous albums that further solidified his status as a musical icon. With a career spanning over six decades, Paul McCartney continues to inspire generations of musicians and fans with his innovative compositions, melodic prowess, and enduring passion for music. He remains an advocate for various social and environmental causes, reflecting his commitment to making a positive impact beyond the realm of entertainment.\\n    The next sentence should be the answer to the following question:\\n    Where did Paul McCartney spend his early years?  \\n\\n    Please answer this question. Do not answer in a full sentence. Answer with as few words as possible, e.g. only a name, place, or thing.\\n\\n    You should only return the final answer. Now your answer is:\\n    ', '\\n    We are writing an answer to the question “write a paragraph about Paul McCartney”. So far we have written:\\n    Paul McCartney is a legendary British musician, songwriter, and producer, best known as a member of The Beatles, one of the most influential bands in the history of music. Born on June 18, 1942, in Liverpool, England, McCartney showcased his musical talent from a young age, and during the 1960s, he played a pivotal role in the band\\'s unparalleled success, crafting timeless classics such as \"Hey Jude,\" \"Yesterday,\" and \"Let It Be.\" Following The Beatles\\' breakup in 1970, McCartney embarked on a prolific solo career, forming the band Wings and releasing numerous albums that further solidified his status as a musical icon. With a career spanning over six decades, Paul McCartney continues to inspire generations of musicians and fans with his innovative compositions, melodic prowess, and enduring passion for music. He remains an advocate for various social and environmental causes, reflecting his commitment to making a positive impact beyond the realm of entertainment.\\n    The next sentence should be the answer to the following question:\\n    What is the birthplace of the legendary musician Paul McCartney?\\n    Please answer this question. Do not answer in a full sentence. Answer with as few words as possible, e.g. only a name, place, or thing.\\n\\n    You should only return the final answer. Now your answer is:\\n    ']\n",
      " \n",
      "Factoids:  [['Paul McCartney is a legendary British musician.', 'Paul McCartney is a songwriter.', 'Paul McCartney is a producer.', 'Paul McCartney is best known as a member of The Beatles.', 'The Beatles is one of the most influential bands in the history of music.', 'Paul McCartney was born on June 18, 1942.', 'Paul McCartney was born in Liverpool, England.', 'Paul McCartney showcased his musical talent from a young age.', \"Paul McCartney played a pivotal role in The Beatles' unparalleled success during the 1960s.\", 'Paul McCartney crafted timeless classics such as \"Hey Jude.\"', 'Paul McCartney crafted timeless classics such as \"Yesterday.\"', 'Paul McCartney crafted timeless classics such as \"Let It Be.\"', \"Paul McCartney embarked on a prolific solo career following The Beatles' breakup in 1970.\", 'Paul McCartney formed the band Wings.', 'Paul McCartney released numerous albums.', \"Paul McCartney's albums further solidified his status as a musical icon.\", \"Paul McCartney's career spans over six decades.\", 'Paul McCartney continues to inspire generations of musicians and fans.', 'Paul McCartney inspires with his innovative compositions.', 'Paul McCartney inspires with his melodic prowess.', 'Paul McCartney inspires with his enduring passion for music.', 'Paul McCartney remains an advocate for various social causes.', 'Paul McCartney remains an advocate for various environmental causes.', 'Paul McCartney reflects his commitment to making a positive impact beyond the realm of entertainment.']]\n",
      " \n",
      "Response-level scores:  {'exact_match': [0.21428571428571427]}\n",
      "Computation time: 31.489116191864014 seconds\n"
     ]
    }
   ],
   "source": [
    "start_time = time.time()\n",
    "claim_qa = ClaimQAScorer(llm=llm, black_box_scorers=[\"exact_match\"], response_template=\"atomic\", max_calls_per_min=500)\n",
    "result = await claim_qa.generate_and_score(prompts=prompts)\n",
    "print(f\"Computation time: {time.time() - start_time} seconds\")"
   ]
  }
 ],
 "metadata": {
  "environment": {
   "kernel": "uqlm_my_test",
   "name": "workbench-notebooks.m126",
   "type": "gcloud",
   "uri": "us-docker.pkg.dev/deeplearning-platform-release/gcr.io/workbench-notebooks:m126"
  },
  "kernelspec": {
   "display_name": "uqlm-m1pshusV-py3.9",
   "language": "python",
   "name": "python3"
  },
  "language_info": {
   "codemirror_mode": {
    "name": "ipython",
    "version": 3
   },
   "file_extension": ".py",
   "mimetype": "text/x-python",
   "name": "python",
   "nbconvert_exporter": "python",
   "pygments_lexer": "ipython3",
   "version": "3.9.22"
  }
 },
 "nbformat": 4,
 "nbformat_minor": 5
}
