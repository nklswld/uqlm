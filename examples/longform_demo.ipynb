{
 "cells": [
  {
   "cell_type": "markdown",
   "id": "0678f84c-2fe2-42be-a69b-21f6b4260245",
   "metadata": {
    "tags": []
   },
   "source": [
    "#### Load LLM and device"
   ]
  },
  {
   "cell_type": "code",
   "execution_count": 1,
   "id": "8bd9f1d2-8ff2-4572-bee7-a1cf9db7274d",
   "metadata": {
    "tags": []
   },
   "outputs": [],
   "source": [
    "from langchain_google_vertexai import ChatVertexAI\n",
    "\n",
    "llm = ChatVertexAI(model=\"gemini-2.5-flash\")"
   ]
  },
  {
   "cell_type": "code",
   "execution_count": 2,
   "id": "5b33e73b-04c3-40f1-afb6-0446aa1fbb49",
   "metadata": {
    "tags": []
   },
   "outputs": [
    {
     "name": "stdout",
     "output_type": "stream",
     "text": [
      "Using cuda device\n"
     ]
    }
   ],
   "source": [
    "import torch\n",
    "\n",
    "# Set the torch device\n",
    "if torch.cuda.is_available():  # NVIDIA GPU\n",
    "    device = torch.device(\"cuda\")\n",
    "elif torch.backends.mps.is_available():  # macOS\n",
    "    device = torch.device(\"mps\")\n",
    "else:\n",
    "    device = torch.device(\"cpu\")  # CPU\n",
    "print(f\"Using {device.type} device\")"
   ]
  },
  {
   "cell_type": "markdown",
   "id": "850b7add-c6d7-47e3-985e-02380b1de835",
   "metadata": {},
   "source": [
    "#### LongForm UQ"
   ]
  },
  {
   "cell_type": "code",
   "execution_count": 3,
   "id": "b69f0a78-5501-40db-979e-bbca20f78628",
   "metadata": {
    "tags": []
   },
   "outputs": [],
   "source": [
    "from uqlm import LongFormUQ"
   ]
  },
  {
   "cell_type": "code",
   "execution_count": 4,
   "id": "4a38c40c-7b4d-4a1c-adda-c3b616542a1a",
   "metadata": {
    "tags": []
   },
   "outputs": [],
   "source": [
    "prompts = [\"write a paragraph about Paul McCartney\", \"write a paragraph about John Lennon\"]"
   ]
  },
  {
   "cell_type": "code",
   "execution_count": 5,
   "id": "bcd049f3-bb77-4f85-b673-bb0366e9d9ff",
   "metadata": {
    "tags": []
   },
   "outputs": [
    {
     "data": {
      "application/vnd.jupyter.widget-view+json": {
       "model_id": "92a2cdd4b47545c3b25de0cb2ec17aad",
       "version_major": 2,
       "version_minor": 0
      },
      "text/plain": [
       "Output()"
      ]
     },
     "metadata": {},
     "output_type": "display_data"
    },
    {
     "data": {
      "text/html": [
       "<pre style=\"white-space:pre;overflow-x:auto;line-height:normal;font-family:Menlo,'DejaVu Sans Mono',consolas,'Courier New',monospace\"></pre>\n"
      ],
      "text/plain": []
     },
     "metadata": {},
     "output_type": "display_data"
    },
    {
     "data": {
      "application/vnd.jupyter.widget-view+json": {
       "model_id": "b011b5b340694ebe85a4ca7258507f8a",
       "version_major": 2,
       "version_minor": 0
      },
      "text/plain": [
       "Output()"
      ]
     },
     "metadata": {},
     "output_type": "display_data"
    },
    {
     "data": {
      "text/html": [
       "<pre style=\"white-space:pre;overflow-x:auto;line-height:normal;font-family:Menlo,'DejaVu Sans Mono',consolas,'Courier New',monospace\"></pre>\n"
      ],
      "text/plain": []
     },
     "metadata": {},
     "output_type": "display_data"
    },
    {
     "data": {
      "text/html": [
       "<div>\n",
       "<style scoped>\n",
       "    .dataframe tbody tr th:only-of-type {\n",
       "        vertical-align: middle;\n",
       "    }\n",
       "\n",
       "    .dataframe tbody tr th {\n",
       "        vertical-align: top;\n",
       "    }\n",
       "\n",
       "    .dataframe thead th {\n",
       "        text-align: right;\n",
       "    }\n",
       "</style>\n",
       "<table border=\"1\" class=\"dataframe\">\n",
       "  <thead>\n",
       "    <tr style=\"text-align: right;\">\n",
       "      <th></th>\n",
       "      <th>response</th>\n",
       "      <th>sampled_responses</th>\n",
       "      <th>prompt</th>\n",
       "      <th>sentence_set</th>\n",
       "      <th>entailment</th>\n",
       "      <th>noncontradiction</th>\n",
       "      <th>contrasted_entailment</th>\n",
       "    </tr>\n",
       "  </thead>\n",
       "  <tbody>\n",
       "    <tr>\n",
       "      <th>0</th>\n",
       "      <td>Sir James Paul McCartney is a legendary Englis...</td>\n",
       "      <td>[Sir Paul McCartney stands as one of the most ...</td>\n",
       "      <td>write a paragraph about Paul McCartney</td>\n",
       "      <td>[Sir James Paul McCartney is a legendary Engli...</td>\n",
       "      <td>0.614487</td>\n",
       "      <td>0.998979</td>\n",
       "      <td>0.995950</td>\n",
       "    </tr>\n",
       "    <tr>\n",
       "      <th>1</th>\n",
       "      <td>John Lennon remains one of the most iconic and...</td>\n",
       "      <td>[John Lennon remains one of the most iconic an...</td>\n",
       "      <td>write a paragraph about John Lennon</td>\n",
       "      <td>[John Lennon remains one of the most iconic an...</td>\n",
       "      <td>0.448111</td>\n",
       "      <td>0.998936</td>\n",
       "      <td>0.988906</td>\n",
       "    </tr>\n",
       "  </tbody>\n",
       "</table>\n",
       "</div>"
      ],
      "text/plain": [
       "                                            response  \\\n",
       "0  Sir James Paul McCartney is a legendary Englis...   \n",
       "1  John Lennon remains one of the most iconic and...   \n",
       "\n",
       "                                   sampled_responses  \\\n",
       "0  [Sir Paul McCartney stands as one of the most ...   \n",
       "1  [John Lennon remains one of the most iconic an...   \n",
       "\n",
       "                                   prompt  \\\n",
       "0  write a paragraph about Paul McCartney   \n",
       "1     write a paragraph about John Lennon   \n",
       "\n",
       "                                        sentence_set  entailment  \\\n",
       "0  [Sir James Paul McCartney is a legendary Engli...    0.614487   \n",
       "1  [John Lennon remains one of the most iconic an...    0.448111   \n",
       "\n",
       "   noncontradiction  contrasted_entailment  \n",
       "0          0.998979               0.995950  \n",
       "1          0.998936               0.988906  "
      ]
     },
     "execution_count": 5,
     "metadata": {},
     "output_type": "execute_result"
    }
   ],
   "source": [
    "# Sentence-Response UQ: aggregated response-level scoring\n",
    "sent_lfuq = LongFormUQ(llm=llm, granularity=\"sentence\", mode=\"unit_response\", aggregation_method=\"mean\", device=device)\n",
    "result = await sent_lfuq.generate_and_score(prompts=prompts, num_responses=2)\n",
    "result.to_df()"
   ]
  },
  {
   "cell_type": "code",
   "execution_count": 6,
   "id": "84d5c58f-b32c-44cb-aba9-9e3e466e2629",
   "metadata": {
    "tags": []
   },
   "outputs": [
    {
     "data": {
      "application/vnd.jupyter.widget-view+json": {
       "model_id": "90028ba63c9b46268ebd16b530b14693",
       "version_major": 2,
       "version_minor": 0
      },
      "text/plain": [
       "Output()"
      ]
     },
     "metadata": {},
     "output_type": "display_data"
    },
    {
     "data": {
      "text/html": [
       "<pre style=\"white-space:pre;overflow-x:auto;line-height:normal;font-family:Menlo,'DejaVu Sans Mono',consolas,'Courier New',monospace\"></pre>\n"
      ],
      "text/plain": []
     },
     "metadata": {},
     "output_type": "display_data"
    },
    {
     "data": {
      "application/vnd.jupyter.widget-view+json": {
       "model_id": "0a1c17dff3244cfeaca9db5ecea5dae9",
       "version_major": 2,
       "version_minor": 0
      },
      "text/plain": [
       "Output()"
      ]
     },
     "metadata": {},
     "output_type": "display_data"
    },
    {
     "data": {
      "text/html": [
       "<pre style=\"white-space:pre;overflow-x:auto;line-height:normal;font-family:Menlo,'DejaVu Sans Mono',consolas,'Courier New',monospace\"></pre>\n"
      ],
      "text/plain": []
     },
     "metadata": {},
     "output_type": "display_data"
    },
    {
     "data": {
      "text/html": [
       "<div>\n",
       "<style scoped>\n",
       "    .dataframe tbody tr th:only-of-type {\n",
       "        vertical-align: middle;\n",
       "    }\n",
       "\n",
       "    .dataframe tbody tr th {\n",
       "        vertical-align: top;\n",
       "    }\n",
       "\n",
       "    .dataframe thead th {\n",
       "        text-align: right;\n",
       "    }\n",
       "</style>\n",
       "<table border=\"1\" class=\"dataframe\">\n",
       "  <thead>\n",
       "    <tr style=\"text-align: right;\">\n",
       "      <th></th>\n",
       "      <th>response</th>\n",
       "      <th>sampled_responses</th>\n",
       "      <th>prompt</th>\n",
       "      <th>sentence_set</th>\n",
       "      <th>entailment</th>\n",
       "      <th>noncontradiction</th>\n",
       "      <th>contrasted_entailment</th>\n",
       "    </tr>\n",
       "  </thead>\n",
       "  <tbody>\n",
       "    <tr>\n",
       "      <th>0</th>\n",
       "      <td>Sir Paul McCartney is one of the most celebrat...</td>\n",
       "      <td>[Sir Paul McCartney stands as one of the most ...</td>\n",
       "      <td>write a paragraph about Paul McCartney</td>\n",
       "      <td>[Sir Paul McCartney is one of the most celebra...</td>\n",
       "      <td>[0.9667072296142578, 0.5901162475347519, 0.921...</td>\n",
       "      <td>[0.9994462132453918, 0.9991875886917114, 0.999...</td>\n",
       "      <td>[0.9994173645973206, 0.9969615638256073, 0.999...</td>\n",
       "    </tr>\n",
       "    <tr>\n",
       "      <th>1</th>\n",
       "      <td>John Lennon remains one of the most iconic and...</td>\n",
       "      <td>[John Lennon, an iconic figure in 20th-century...</td>\n",
       "      <td>write a paragraph about John Lennon</td>\n",
       "      <td>[John Lennon remains one of the most iconic an...</td>\n",
       "      <td>[0.9902316629886627, 0.942951887845993, 0.9036...</td>\n",
       "      <td>[0.9996265769004822, 0.9995386898517609, 0.999...</td>\n",
       "      <td>[0.999622255563736, 0.9995062351226807, 0.9991...</td>\n",
       "    </tr>\n",
       "  </tbody>\n",
       "</table>\n",
       "</div>"
      ],
      "text/plain": [
       "                                            response  \\\n",
       "0  Sir Paul McCartney is one of the most celebrat...   \n",
       "1  John Lennon remains one of the most iconic and...   \n",
       "\n",
       "                                   sampled_responses  \\\n",
       "0  [Sir Paul McCartney stands as one of the most ...   \n",
       "1  [John Lennon, an iconic figure in 20th-century...   \n",
       "\n",
       "                                   prompt  \\\n",
       "0  write a paragraph about Paul McCartney   \n",
       "1     write a paragraph about John Lennon   \n",
       "\n",
       "                                        sentence_set  \\\n",
       "0  [Sir Paul McCartney is one of the most celebra...   \n",
       "1  [John Lennon remains one of the most iconic an...   \n",
       "\n",
       "                                          entailment  \\\n",
       "0  [0.9667072296142578, 0.5901162475347519, 0.921...   \n",
       "1  [0.9902316629886627, 0.942951887845993, 0.9036...   \n",
       "\n",
       "                                    noncontradiction  \\\n",
       "0  [0.9994462132453918, 0.9991875886917114, 0.999...   \n",
       "1  [0.9996265769004822, 0.9995386898517609, 0.999...   \n",
       "\n",
       "                               contrasted_entailment  \n",
       "0  [0.9994173645973206, 0.9969615638256073, 0.999...  \n",
       "1  [0.999622255563736, 0.9995062351226807, 0.9991...  "
      ]
     },
     "execution_count": 6,
     "metadata": {},
     "output_type": "execute_result"
    }
   ],
   "source": [
    "# Sentence-Response UQ: sentence-level scoring\n",
    "sent_lfuq = LongFormUQ(llm=llm, granularity=\"sentence\", mode=\"unit_response\", aggregation_method=None, device=device)\n",
    "result = await sent_lfuq.generate_and_score(prompts=prompts, num_responses=2)\n",
    "result.to_df()"
   ]
  },
  {
   "cell_type": "code",
   "execution_count": 7,
   "id": "195ee8a7-b417-42d9-b5e4-23769ba1f6f2",
   "metadata": {
    "tags": []
   },
   "outputs": [
    {
     "data": {
      "application/vnd.jupyter.widget-view+json": {
       "model_id": "a00c4c353fda43ee8d86e63d2fbabe19",
       "version_major": 2,
       "version_minor": 0
      },
      "text/plain": [
       "Output()"
      ]
     },
     "metadata": {},
     "output_type": "display_data"
    },
    {
     "data": {
      "text/html": [
       "<pre style=\"white-space:pre;overflow-x:auto;line-height:normal;font-family:Menlo,'DejaVu Sans Mono',consolas,'Courier New',monospace\"></pre>\n"
      ],
      "text/plain": []
     },
     "metadata": {},
     "output_type": "display_data"
    },
    {
     "data": {
      "application/vnd.jupyter.widget-view+json": {
       "model_id": "b7efdf5551a14252966dec616091acc1",
       "version_major": 2,
       "version_minor": 0
      },
      "text/plain": [
       "Output()"
      ]
     },
     "metadata": {},
     "output_type": "display_data"
    },
    {
     "data": {
      "text/html": [
       "<pre style=\"white-space:pre;overflow-x:auto;line-height:normal;font-family:Menlo,'DejaVu Sans Mono',consolas,'Courier New',monospace\"></pre>\n"
      ],
      "text/plain": []
     },
     "metadata": {},
     "output_type": "display_data"
    },
    {
     "data": {
      "text/html": [
       "<div>\n",
       "<style scoped>\n",
       "    .dataframe tbody tr th:only-of-type {\n",
       "        vertical-align: middle;\n",
       "    }\n",
       "\n",
       "    .dataframe tbody tr th {\n",
       "        vertical-align: top;\n",
       "    }\n",
       "\n",
       "    .dataframe thead th {\n",
       "        text-align: right;\n",
       "    }\n",
       "</style>\n",
       "<table border=\"1\" class=\"dataframe\">\n",
       "  <thead>\n",
       "    <tr style=\"text-align: right;\">\n",
       "      <th></th>\n",
       "      <th>response</th>\n",
       "      <th>sampled_responses</th>\n",
       "      <th>prompt</th>\n",
       "      <th>claim_set</th>\n",
       "      <th>entailment</th>\n",
       "      <th>noncontradiction</th>\n",
       "      <th>contrasted_entailment</th>\n",
       "    </tr>\n",
       "  </thead>\n",
       "  <tbody>\n",
       "    <tr>\n",
       "      <th>0</th>\n",
       "      <td>Paul McCartney is an undisputed titan of music...</td>\n",
       "      <td>[Sir Paul McCartney stands as one of the most ...</td>\n",
       "      <td>write a paragraph about Paul McCartney</td>\n",
       "      <td>[Paul McCartney is an undisputed titan of musi...</td>\n",
       "      <td>[0.8392975330352783, 0.4484418034553528, 0.064...</td>\n",
       "      <td>[0.9980470538139343, 0.9929606914520264, 0.986...</td>\n",
       "      <td>[0.9976764023303986, 0.9839319288730621, 0.702...</td>\n",
       "    </tr>\n",
       "    <tr>\n",
       "      <th>1</th>\n",
       "      <td>John Lennon remains one of the most iconic and...</td>\n",
       "      <td>[John Lennon remains one of the most iconic an...</td>\n",
       "      <td>write a paragraph about John Lennon</td>\n",
       "      <td>[John Lennon is one of the most iconic figures...</td>\n",
       "      <td>[0.9698392152786255, 0.9648253917694092, 0.553...</td>\n",
       "      <td>[0.9995621740818024, 0.9995166659355164, 0.678...</td>\n",
       "      <td>[0.9995458722114563, 0.9994959831237793, 0.574...</td>\n",
       "    </tr>\n",
       "  </tbody>\n",
       "</table>\n",
       "</div>"
      ],
      "text/plain": [
       "                                            response  \\\n",
       "0  Paul McCartney is an undisputed titan of music...   \n",
       "1  John Lennon remains one of the most iconic and...   \n",
       "\n",
       "                                   sampled_responses  \\\n",
       "0  [Sir Paul McCartney stands as one of the most ...   \n",
       "1  [John Lennon remains one of the most iconic an...   \n",
       "\n",
       "                                   prompt  \\\n",
       "0  write a paragraph about Paul McCartney   \n",
       "1     write a paragraph about John Lennon   \n",
       "\n",
       "                                           claim_set  \\\n",
       "0  [Paul McCartney is an undisputed titan of musi...   \n",
       "1  [John Lennon is one of the most iconic figures...   \n",
       "\n",
       "                                          entailment  \\\n",
       "0  [0.8392975330352783, 0.4484418034553528, 0.064...   \n",
       "1  [0.9698392152786255, 0.9648253917694092, 0.553...   \n",
       "\n",
       "                                    noncontradiction  \\\n",
       "0  [0.9980470538139343, 0.9929606914520264, 0.986...   \n",
       "1  [0.9995621740818024, 0.9995166659355164, 0.678...   \n",
       "\n",
       "                               contrasted_entailment  \n",
       "0  [0.9976764023303986, 0.9839319288730621, 0.702...  \n",
       "1  [0.9995458722114563, 0.9994959831237793, 0.574...  "
      ]
     },
     "execution_count": 7,
     "metadata": {},
     "output_type": "execute_result"
    }
   ],
   "source": [
    "# Claim-Response UQ:  claim-level scoring\n",
    "claim_lfuq = LongFormUQ(llm=llm, granularity=\"claim\", mode=\"unit_response\", aggregation_method=None, device=device)\n",
    "result = await claim_lfuq.generate_and_score(prompts=prompts, num_responses=2)\n",
    "result.to_df()"
   ]
  },
  {
   "cell_type": "code",
   "execution_count": 5,
   "id": "6e50a2e1-0f63-4479-b66f-76f463b05f06",
   "metadata": {
    "tags": []
   },
   "outputs": [
    {
     "data": {
      "application/vnd.jupyter.widget-view+json": {
       "model_id": "9fb02b20a14a44b39793f9c5f46d545b",
       "version_major": 2,
       "version_minor": 0
      },
      "text/plain": [
       "Output()"
      ]
     },
     "metadata": {},
     "output_type": "display_data"
    },
    {
     "data": {
      "text/html": [
       "<pre style=\"white-space:pre;overflow-x:auto;line-height:normal;font-family:Menlo,'DejaVu Sans Mono',consolas,'Courier New',monospace\"></pre>\n"
      ],
      "text/plain": []
     },
     "metadata": {},
     "output_type": "display_data"
    },
    {
     "data": {
      "application/vnd.jupyter.widget-view+json": {
       "model_id": "05ee6f3765fa4c5bb10effbac466e7e6",
       "version_major": 2,
       "version_minor": 0
      },
      "text/plain": [
       "Output()"
      ]
     },
     "metadata": {},
     "output_type": "display_data"
    },
    {
     "data": {
      "text/html": [
       "<pre style=\"white-space:pre;overflow-x:auto;line-height:normal;font-family:Menlo,'DejaVu Sans Mono',consolas,'Courier New',monospace\"></pre>\n"
      ],
      "text/plain": []
     },
     "metadata": {},
     "output_type": "display_data"
    },
    {
     "data": {
      "text/html": [
       "<div>\n",
       "<style scoped>\n",
       "    .dataframe tbody tr th:only-of-type {\n",
       "        vertical-align: middle;\n",
       "    }\n",
       "\n",
       "    .dataframe tbody tr th {\n",
       "        vertical-align: top;\n",
       "    }\n",
       "\n",
       "    .dataframe thead th {\n",
       "        text-align: right;\n",
       "    }\n",
       "</style>\n",
       "<table border=\"1\" class=\"dataframe\">\n",
       "  <thead>\n",
       "    <tr style=\"text-align: right;\">\n",
       "      <th></th>\n",
       "      <th>response</th>\n",
       "      <th>sampled_responses</th>\n",
       "      <th>prompt</th>\n",
       "      <th>claim_set</th>\n",
       "      <th>entailment</th>\n",
       "      <th>noncontradiction</th>\n",
       "      <th>contrasted_entailment</th>\n",
       "    </tr>\n",
       "  </thead>\n",
       "  <tbody>\n",
       "    <tr>\n",
       "      <th>0</th>\n",
       "      <td>Sir Paul McCartney stands as one of the most i...</td>\n",
       "      <td>[Paul McCartney stands as one of the most endu...</td>\n",
       "      <td>write a paragraph about Paul McCartney</td>\n",
       "      <td>[Sir Paul McCartney is one of the most iconic ...</td>\n",
       "      <td>[0.15482963994145393, 0.09617941826581955, 0.1...</td>\n",
       "      <td>[0.9994825124740601, 0.9995205402374268, 0.998...</td>\n",
       "      <td>[0.9952928423881531, 0.9925267696380615, 0.958...</td>\n",
       "    </tr>\n",
       "    <tr>\n",
       "      <th>1</th>\n",
       "      <td>John Lennon remains one of the most iconic and...</td>\n",
       "      <td>[John Lennon, a visionary artist and co-founde...</td>\n",
       "      <td>write a paragraph about John Lennon</td>\n",
       "      <td>[John Lennon remains a figure in music history...</td>\n",
       "      <td>[0.9301130771636963, 0.8804892897605896, 0.936...</td>\n",
       "      <td>[0.9994082152843475, 0.9989449083805084, 0.999...</td>\n",
       "      <td>[0.99934321641922, 0.9983357489109039, 0.99919...</td>\n",
       "    </tr>\n",
       "  </tbody>\n",
       "</table>\n",
       "</div>"
      ],
      "text/plain": [
       "                                            response  \\\n",
       "0  Sir Paul McCartney stands as one of the most i...   \n",
       "1  John Lennon remains one of the most iconic and...   \n",
       "\n",
       "                                   sampled_responses  \\\n",
       "0  [Paul McCartney stands as one of the most endu...   \n",
       "1  [John Lennon, a visionary artist and co-founde...   \n",
       "\n",
       "                                   prompt  \\\n",
       "0  write a paragraph about Paul McCartney   \n",
       "1     write a paragraph about John Lennon   \n",
       "\n",
       "                                           claim_set  \\\n",
       "0  [Sir Paul McCartney is one of the most iconic ...   \n",
       "1  [John Lennon remains a figure in music history...   \n",
       "\n",
       "                                          entailment  \\\n",
       "0  [0.15482963994145393, 0.09617941826581955, 0.1...   \n",
       "1  [0.9301130771636963, 0.8804892897605896, 0.936...   \n",
       "\n",
       "                                    noncontradiction  \\\n",
       "0  [0.9994825124740601, 0.9995205402374268, 0.998...   \n",
       "1  [0.9994082152843475, 0.9989449083805084, 0.999...   \n",
       "\n",
       "                               contrasted_entailment  \n",
       "0  [0.9952928423881531, 0.9925267696380615, 0.958...  \n",
       "1  [0.99934321641922, 0.9983357489109039, 0.99919...  "
      ]
     },
     "execution_count": 5,
     "metadata": {},
     "output_type": "execute_result"
    }
   ],
   "source": [
    "# matched claim UQ: claim-level scoring\n",
    "matched_claim_lfuq = LongFormUQ(llm=llm, granularity=\"claim\", mode=\"matched_unit\", aggregation_method=None, device=device)\n",
    "result = await matched_claim_lfuq.generate_and_score(prompts=prompts, num_responses=2)\n",
    "result.to_df()"
   ]
  },
  {
   "cell_type": "code",
   "execution_count": 6,
   "id": "c3db1976-5a48-4bc4-8982-d9712faea044",
   "metadata": {
    "tags": []
   },
   "outputs": [
    {
     "data": {
      "application/vnd.jupyter.widget-view+json": {
       "model_id": "1ff7412825ba456893ac31ab9bc67cff",
       "version_major": 2,
       "version_minor": 0
      },
      "text/plain": [
       "Output()"
      ]
     },
     "metadata": {},
     "output_type": "display_data"
    },
    {
     "data": {
      "text/html": [
       "<pre style=\"white-space:pre;overflow-x:auto;line-height:normal;font-family:Menlo,'DejaVu Sans Mono',consolas,'Courier New',monospace\"></pre>\n"
      ],
      "text/plain": []
     },
     "metadata": {},
     "output_type": "display_data"
    },
    {
     "data": {
      "application/vnd.jupyter.widget-view+json": {
       "model_id": "74fc4902c378423da70e5a9564db8b3a",
       "version_major": 2,
       "version_minor": 0
      },
      "text/plain": [
       "Output()"
      ]
     },
     "metadata": {},
     "output_type": "display_data"
    },
    {
     "data": {
      "text/html": [
       "<pre style=\"white-space:pre;overflow-x:auto;line-height:normal;font-family:Menlo,'DejaVu Sans Mono',consolas,'Courier New',monospace\"></pre>\n"
      ],
      "text/plain": []
     },
     "metadata": {},
     "output_type": "display_data"
    },
    {
     "data": {
      "text/html": [
       "<div>\n",
       "<style scoped>\n",
       "    .dataframe tbody tr th:only-of-type {\n",
       "        vertical-align: middle;\n",
       "    }\n",
       "\n",
       "    .dataframe tbody tr th {\n",
       "        vertical-align: top;\n",
       "    }\n",
       "\n",
       "    .dataframe thead th {\n",
       "        text-align: right;\n",
       "    }\n",
       "</style>\n",
       "<table border=\"1\" class=\"dataframe\">\n",
       "  <thead>\n",
       "    <tr style=\"text-align: right;\">\n",
       "      <th></th>\n",
       "      <th>response</th>\n",
       "      <th>sampled_responses</th>\n",
       "      <th>prompt</th>\n",
       "      <th>claim_set</th>\n",
       "      <th>entailment</th>\n",
       "      <th>noncontradiction</th>\n",
       "      <th>contrasted_entailment</th>\n",
       "    </tr>\n",
       "  </thead>\n",
       "  <tbody>\n",
       "    <tr>\n",
       "      <th>0</th>\n",
       "      <td>Sir Paul McCartney stands as one of the most i...</td>\n",
       "      <td>[Paul McCartney, an undeniable titan of modern...</td>\n",
       "      <td>write a paragraph about Paul McCartney</td>\n",
       "      <td>[Sir Paul McCartney is one of the most iconic ...</td>\n",
       "      <td>[0.17649146541953087, 0.181912362575531, 0.292...</td>\n",
       "      <td>[0.9992806911468506, 0.9994366466999054, 0.999...</td>\n",
       "      <td>[0.9942559897899628, 0.9910057187080383, 0.987...</td>\n",
       "    </tr>\n",
       "    <tr>\n",
       "      <th>1</th>\n",
       "      <td>John Lennon remains one of history's most icon...</td>\n",
       "      <td>[John Lennon remains one of the most iconic an...</td>\n",
       "      <td>write a paragraph about John Lennon</td>\n",
       "      <td>[John Lennon remains a musical figure., John L...</td>\n",
       "      <td>[0.9826607406139374, 0.9929848611354828, 0.990...</td>\n",
       "      <td>[0.9994126856327057, 0.9996995329856873, 0.999...</td>\n",
       "      <td>[0.9994026720523834, 0.999697208404541, 0.9996...</td>\n",
       "    </tr>\n",
       "  </tbody>\n",
       "</table>\n",
       "</div>"
      ],
      "text/plain": [
       "                                            response  \\\n",
       "0  Sir Paul McCartney stands as one of the most i...   \n",
       "1  John Lennon remains one of history's most icon...   \n",
       "\n",
       "                                   sampled_responses  \\\n",
       "0  [Paul McCartney, an undeniable titan of modern...   \n",
       "1  [John Lennon remains one of the most iconic an...   \n",
       "\n",
       "                                   prompt  \\\n",
       "0  write a paragraph about Paul McCartney   \n",
       "1     write a paragraph about John Lennon   \n",
       "\n",
       "                                           claim_set  \\\n",
       "0  [Sir Paul McCartney is one of the most iconic ...   \n",
       "1  [John Lennon remains a musical figure., John L...   \n",
       "\n",
       "                                          entailment  \\\n",
       "0  [0.17649146541953087, 0.181912362575531, 0.292...   \n",
       "1  [0.9826607406139374, 0.9929848611354828, 0.990...   \n",
       "\n",
       "                                    noncontradiction  \\\n",
       "0  [0.9992806911468506, 0.9994366466999054, 0.999...   \n",
       "1  [0.9994126856327057, 0.9996995329856873, 0.999...   \n",
       "\n",
       "                               contrasted_entailment  \n",
       "0  [0.9942559897899628, 0.9910057187080383, 0.987...  \n",
       "1  [0.9994026720523834, 0.999697208404541, 0.9996...  "
      ]
     },
     "execution_count": 6,
     "metadata": {},
     "output_type": "execute_result"
    }
   ],
   "source": [
    "# matched sentence UQ\n",
    "matched_sent_lfuq = LongFormUQ(llm=llm, granularity=\"sentence\", mode=\"matched_unit\", aggregation_method=None, device=device)\n",
    "result = await matched_claim_lfuq.generate_and_score(prompts=prompts, num_responses=2)\n",
    "result.to_df()"
   ]
  },
  {
   "cell_type": "markdown",
   "id": "671d0d56-4dfc-4607-8222-46828b90e427",
   "metadata": {
    "tags": []
   },
   "source": [
    "#### Decomposition"
   ]
  },
  {
   "cell_type": "code",
   "execution_count": 8,
   "id": "16a38c6b-6ae5-4fe8-addc-68f639d3ffb2",
   "metadata": {
    "tags": []
   },
   "outputs": [],
   "source": [
    "from uqlm.longform import ResponseDecomposer"
   ]
  },
  {
   "cell_type": "code",
   "execution_count": 9,
   "id": "06cf93d8-320e-4fd8-a2d8-551f5a3d710f",
   "metadata": {
    "tags": []
   },
   "outputs": [],
   "source": [
    "rd = ResponseDecomposer(llm)"
   ]
  },
  {
   "cell_type": "code",
   "execution_count": 14,
   "id": "a5fb9e10-96c7-41a9-ab25-a43580ffe47a",
   "metadata": {
    "tags": []
   },
   "outputs": [],
   "source": [
    "responses = [\"Hello there! Today I visited Dr. Chauhan at his home. He was hanging his framed B.S., M.S., and Ph.D. degrees. It was fun!\", \"One time I went on a class trip to D.C. to visit the white house. While there, I felt in awe of the beutiful art and important people with titles such as Prof., Esq., and others.\"]\n",
    "\n",
    "sampled_responses = [\n",
    "    [\"Hi! I went to see Dr. Chauhan at his house today. He was busy putting up his framed B.S., M.S., and Ph.D. diplomas. It was quite enjoyable!\", \"Greetings! Today, I stopped by Dr. Chauhan's home. He was in the process of displaying his framed degrees: B.S., M.S., and Ph.D. It was a delightful experience!\"],\n",
    "    [\n",
    "        \"Once, I took a school trip to Washington, D.C. to see the White House. While I was there, I was amazed by the stunning artwork and the notable individuals with titles like Professor, Esquire, and more.\",\n",
    "        \"During a class excursion to Washington, D.C., I had the opportunity to visit the White House. I was struck by the beautiful art and the distinguished people holding titles such as Prof., Esq., and others.\",\n",
    "    ],\n",
    "]"
   ]
  },
  {
   "cell_type": "code",
   "execution_count": 11,
   "id": "dfa19681-7702-43ca-9501-b40fc7abf013",
   "metadata": {
    "tags": []
   },
   "outputs": [
    {
     "data": {
      "text/plain": [
       "[['Hello there!',\n",
       "  'Today I visited Dr. Chauhan at his home.',\n",
       "  'He was hanging his framed B.S., M.S., and Ph.D. degrees.',\n",
       "  'It was fun!'],\n",
       " ['One time I went on a class trip to D.C. to visit the white house.',\n",
       "  'While there, I felt in awe of the beutiful art and important people with titles such as Prof., Esq., and others.']]"
      ]
     },
     "execution_count": 11,
     "metadata": {},
     "output_type": "execute_result"
    }
   ],
   "source": [
    "# Decompose into sentences\n",
    "rd.decompose_sentences(responses=responses)"
   ]
  },
  {
   "cell_type": "code",
   "execution_count": 12,
   "id": "f4080394-2088-4d28-9cc2-3ae8484a47ce",
   "metadata": {
    "tags": []
   },
   "outputs": [
    {
     "data": {
      "text/plain": [
       "[['I visited Dr. Chauhan.\\n',\n",
       "  'I visited Dr. Chauhan at his home.\\n',\n",
       "  'Dr. Chauhan was hanging his degrees.\\n',\n",
       "  'Dr. Chauhan was hanging his B.S. degree.\\n',\n",
       "  'Dr. Chauhan was hanging his M.S. degree.\\n',\n",
       "  'Dr. Chauhan was hanging his Ph.D. degree.\\n',\n",
       "  \"Dr. Chauhan's degrees were framed.\\n\",\n",
       "  'It was fun.\\n'],\n",
       " ['I went on a class trip.\\n',\n",
       "  'The class trip was to D.C.\\n',\n",
       "  'I visited the white house.\\n',\n",
       "  'I felt in awe.\\n',\n",
       "  'The art was beautiful.\\n',\n",
       "  'The people were important.\\n',\n",
       "  'The people had titles.\\n',\n",
       "  'The titles included Prof..\\n',\n",
       "  'The titles included Esq..\\n',\n",
       "  'The titles included others.\\n\\n']]"
      ]
     },
     "execution_count": 12,
     "metadata": {},
     "output_type": "execute_result"
    }
   ],
   "source": [
    "# Decompose into claims\n",
    "await rd.decompose_claims(responses=responses)"
   ]
  },
  {
   "cell_type": "code",
   "execution_count": 15,
   "id": "cade8967-64e4-4cc4-91d6-d4317df93828",
   "metadata": {},
   "outputs": [
    {
     "data": {
      "text/plain": [
       "[[['I went to see Dr. Chauhan.\\n',\n",
       "   'I went to see Dr. Chauhan at his house.\\n',\n",
       "   'I went to see Dr. Chauhan today.\\n',\n",
       "   'Dr. Chauhan was busy.\\n',\n",
       "   'Dr. Chauhan was putting up diplomas.\\n',\n",
       "   'Dr. Chauhan was putting up framed diplomas.\\n',\n",
       "   \"Dr. Chauhan's diplomas were framed.\\n\",\n",
       "   \"Dr. Chauhan's diplomas were B.S. diplomas.\\n\",\n",
       "   \"Dr. Chauhan's diplomas were M.S. diplomas.\\n\",\n",
       "   \"Dr. Chauhan's diplomas were Ph.D. diplomas.\\n\",\n",
       "   'It was enjoyable.\\n'],\n",
       "  [\"I stopped by Dr. Chauhan's home.\\n\",\n",
       "   'Dr. Chauhan was displaying his framed degrees.\\n',\n",
       "   'Dr. Chauhan has a B.S. degree.\\n',\n",
       "   'Dr. Chauhan has an M.S. degree.\\n',\n",
       "   'Dr. Chauhan has a Ph.D. degree.\\n',\n",
       "   'The experience was delightful.\\n']],\n",
       " [['I took a school trip.\\n',\n",
       "   'The school trip was to Washington, D.C.\\n',\n",
       "   'I went to see the White House.\\n',\n",
       "   'I was amazed by the artwork.\\n',\n",
       "   'The artwork was stunning.\\n',\n",
       "   'I was amazed by the individuals.\\n',\n",
       "   'The individuals were notable.\\n',\n",
       "   'The individuals had titles.\\n',\n",
       "   'The titles included Professor.\\n',\n",
       "   'The titles included Esquire.\\n\\n'],\n",
       "  ['I had the opportunity to visit the White House.\\n',\n",
       "   'The visit was during a class excursion.\\n',\n",
       "   'The class excursion was to Washington, D.C.\\n',\n",
       "   'I was struck by the beautiful art.\\n',\n",
       "   'I was struck by the distinguished people.\\n',\n",
       "   'The distinguished people held titles.\\n',\n",
       "   'The titles included Prof.\\n',\n",
       "   'The titles included Esq.\\n',\n",
       "   'The titles included others.\\n\\n']]]"
      ]
     },
     "execution_count": 15,
     "metadata": {},
     "output_type": "execute_result"
    }
   ],
   "source": [
    "# Decompose sampled responses into claims\n",
    "await rd.decompose_candidate_claims(sampled_responses=sampled_responses)"
   ]
  },
  {
   "cell_type": "code",
   "execution_count": null,
   "id": "50b7d5c4-e672-4cb0-b7fd-d671b79ca98c",
   "metadata": {},
   "outputs": [],
   "source": []
  },
  {
   "cell_type": "code",
   "execution_count": null,
   "id": "262d4d0a-584b-4144-8ef2-f14927d5cca8",
   "metadata": {},
   "outputs": [],
   "source": []
  }
 ],
 "metadata": {
  "environment": {
   "kernel": "uqlm_my_test",
   "name": "workbench-notebooks.m126",
   "type": "gcloud",
   "uri": "us-docker.pkg.dev/deeplearning-platform-release/gcr.io/workbench-notebooks:m126"
  },
  "kernelspec": {
   "display_name": "uqlm_my_test",
   "language": "python",
   "name": "uqlm_my_test"
  },
  "language_info": {
   "codemirror_mode": {
    "name": "ipython",
    "version": 3
   },
   "file_extension": ".py",
   "mimetype": "text/x-python",
   "name": "python",
   "nbconvert_exporter": "python",
   "pygments_lexer": "ipython3",
   "version": "3.11.12"
  }
 },
 "nbformat": 4,
 "nbformat_minor": 5
}
