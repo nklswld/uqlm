{
 "cells": [
  {
   "cell_type": "markdown",
   "id": "0678f84c-2fe2-42be-a69b-21f6b4260245",
   "metadata": {
    "tags": []
   },
   "source": [
    "#### Load LLM and device"
   ]
  },
  {
   "cell_type": "code",
   "execution_count": 1,
   "id": "8bd9f1d2-8ff2-4572-bee7-a1cf9db7274d",
   "metadata": {
    "tags": []
   },
   "outputs": [],
   "source": [
    "from langchain_google_vertexai import ChatVertexAI\n",
    "\n",
    "llm = ChatVertexAI(model=\"gemini-2.5-flash\")"
   ]
  },
  {
   "cell_type": "code",
   "execution_count": 2,
   "id": "5b33e73b-04c3-40f1-afb6-0446aa1fbb49",
   "metadata": {
    "tags": []
   },
   "outputs": [
    {
     "name": "stdout",
     "output_type": "stream",
     "text": [
      "Using cuda device\n"
     ]
    }
   ],
   "source": [
    "import torch\n",
    "\n",
    "# Set the torch device\n",
    "if torch.cuda.is_available():  # NVIDIA GPU\n",
    "    device = torch.device(\"cuda\")\n",
    "elif torch.backends.mps.is_available():  # macOS\n",
    "    device = torch.device(\"mps\")\n",
    "else:\n",
    "    device = torch.device(\"cpu\")  # CPU\n",
    "print(f\"Using {device.type} device\")"
   ]
  },
  {
   "cell_type": "markdown",
   "id": "850b7add-c6d7-47e3-985e-02380b1de835",
   "metadata": {},
   "source": [
    "#### LongForm UQ"
   ]
  },
  {
   "cell_type": "code",
   "execution_count": 3,
   "id": "b69f0a78-5501-40db-979e-bbca20f78628",
   "metadata": {
    "tags": []
   },
   "outputs": [],
   "source": [
    "from uqlm import LongFormUQ"
   ]
  },
  {
   "cell_type": "code",
   "execution_count": 4,
   "id": "4a38c40c-7b4d-4a1c-adda-c3b616542a1a",
   "metadata": {
    "tags": []
   },
   "outputs": [],
   "source": [
    "prompts = [\"write a paragraph about Paul McCartney\", \"write a paragraph about John Lennon\"]"
   ]
  },
  {
   "cell_type": "code",
   "execution_count": 5,
   "id": "bcd049f3-bb77-4f85-b673-bb0366e9d9ff",
   "metadata": {
    "tags": []
   },
   "outputs": [
    {
     "data": {
      "application/vnd.jupyter.widget-view+json": {
       "model_id": "804066405baa425e859bd19d7d46733c",
       "version_major": 2,
       "version_minor": 0
      },
      "text/plain": [
       "Output()"
      ]
     },
     "metadata": {},
     "output_type": "display_data"
    },
    {
     "data": {
      "text/html": [
       "<pre style=\"white-space:pre;overflow-x:auto;line-height:normal;font-family:Menlo,'DejaVu Sans Mono',consolas,'Courier New',monospace\"></pre>\n"
      ],
      "text/plain": []
     },
     "metadata": {},
     "output_type": "display_data"
    },
    {
     "data": {
      "application/vnd.jupyter.widget-view+json": {
       "model_id": "db2a47db36364b90adee926808df2969",
       "version_major": 2,
       "version_minor": 0
      },
      "text/plain": [
       "Output()"
      ]
     },
     "metadata": {},
     "output_type": "display_data"
    },
    {
     "data": {
      "text/html": [
       "<pre style=\"white-space:pre;overflow-x:auto;line-height:normal;font-family:Menlo,'DejaVu Sans Mono',consolas,'Courier New',monospace\"></pre>\n"
      ],
      "text/plain": []
     },
     "metadata": {},
     "output_type": "display_data"
    },
    {
     "data": {
      "text/html": [
       "<div>\n",
       "<style scoped>\n",
       "    .dataframe tbody tr th:only-of-type {\n",
       "        vertical-align: middle;\n",
       "    }\n",
       "\n",
       "    .dataframe tbody tr th {\n",
       "        vertical-align: top;\n",
       "    }\n",
       "\n",
       "    .dataframe thead th {\n",
       "        text-align: right;\n",
       "    }\n",
       "</style>\n",
       "<table border=\"1\" class=\"dataframe\">\n",
       "  <thead>\n",
       "    <tr style=\"text-align: right;\">\n",
       "      <th></th>\n",
       "      <th>response</th>\n",
       "      <th>sampled_responses</th>\n",
       "      <th>prompt</th>\n",
       "      <th>sentence_set</th>\n",
       "      <th>entailment</th>\n",
       "      <th>noncontradiction</th>\n",
       "      <th>contrasted_entailment</th>\n",
       "    </tr>\n",
       "  </thead>\n",
       "  <tbody>\n",
       "    <tr>\n",
       "      <th>0</th>\n",
       "      <td>Paul McCartney is an iconic British musician, ...</td>\n",
       "      <td>[Sir Paul McCartney stands as one of the most ...</td>\n",
       "      <td>write a paragraph about Paul McCartney</td>\n",
       "      <td>[Paul McCartney is an iconic British musician,...</td>\n",
       "      <td>0.485355</td>\n",
       "      <td>0.998730</td>\n",
       "      <td>0.994352</td>\n",
       "    </tr>\n",
       "    <tr>\n",
       "      <th>1</th>\n",
       "      <td>John Lennon remains one of the most influentia...</td>\n",
       "      <td>[John Lennon remains one of the most iconic an...</td>\n",
       "      <td>write a paragraph about John Lennon</td>\n",
       "      <td>[John Lennon remains one of the most influenti...</td>\n",
       "      <td>0.864676</td>\n",
       "      <td>0.999407</td>\n",
       "      <td>0.999056</td>\n",
       "    </tr>\n",
       "  </tbody>\n",
       "</table>\n",
       "</div>"
      ],
      "text/plain": [
       "                                            response  \\\n",
       "0  Paul McCartney is an iconic British musician, ...   \n",
       "1  John Lennon remains one of the most influentia...   \n",
       "\n",
       "                                   sampled_responses  \\\n",
       "0  [Sir Paul McCartney stands as one of the most ...   \n",
       "1  [John Lennon remains one of the most iconic an...   \n",
       "\n",
       "                                   prompt  \\\n",
       "0  write a paragraph about Paul McCartney   \n",
       "1     write a paragraph about John Lennon   \n",
       "\n",
       "                                        sentence_set  entailment  \\\n",
       "0  [Paul McCartney is an iconic British musician,...    0.485355   \n",
       "1  [John Lennon remains one of the most influenti...    0.864676   \n",
       "\n",
       "   noncontradiction  contrasted_entailment  \n",
       "0          0.998730               0.994352  \n",
       "1          0.999407               0.999056  "
      ]
     },
     "execution_count": 5,
     "metadata": {},
     "output_type": "execute_result"
    }
   ],
   "source": [
    "# Sentence-Response UQ: aggregated response-level scoring\n",
    "sent_lfuq = LongFormUQ(llm=llm, granularity=\"sentence\", mode=\"unit_response\", aggregation_method=\"mean\", device=device)\n",
    "result = await sent_lfuq.generate_and_score(prompts=prompts, num_responses=2)\n",
    "result.to_df()"
   ]
  },
  {
   "cell_type": "code",
   "execution_count": 6,
   "id": "84d5c58f-b32c-44cb-aba9-9e3e466e2629",
   "metadata": {
    "tags": []
   },
   "outputs": [
    {
     "data": {
      "application/vnd.jupyter.widget-view+json": {
       "model_id": "90028ba63c9b46268ebd16b530b14693",
       "version_major": 2,
       "version_minor": 0
      },
      "text/plain": [
       "Output()"
      ]
     },
     "metadata": {},
     "output_type": "display_data"
    },
    {
     "data": {
      "text/html": [
       "<pre style=\"white-space:pre;overflow-x:auto;line-height:normal;font-family:Menlo,'DejaVu Sans Mono',consolas,'Courier New',monospace\"></pre>\n"
      ],
      "text/plain": []
     },
     "metadata": {},
     "output_type": "display_data"
    },
    {
     "data": {
      "application/vnd.jupyter.widget-view+json": {
       "model_id": "0a1c17dff3244cfeaca9db5ecea5dae9",
       "version_major": 2,
       "version_minor": 0
      },
      "text/plain": [
       "Output()"
      ]
     },
     "metadata": {},
     "output_type": "display_data"
    },
    {
     "data": {
      "text/html": [
       "<pre style=\"white-space:pre;overflow-x:auto;line-height:normal;font-family:Menlo,'DejaVu Sans Mono',consolas,'Courier New',monospace\"></pre>\n"
      ],
      "text/plain": []
     },
     "metadata": {},
     "output_type": "display_data"
    },
    {
     "data": {
      "text/html": [
       "<div>\n",
       "<style scoped>\n",
       "    .dataframe tbody tr th:only-of-type {\n",
       "        vertical-align: middle;\n",
       "    }\n",
       "\n",
       "    .dataframe tbody tr th {\n",
       "        vertical-align: top;\n",
       "    }\n",
       "\n",
       "    .dataframe thead th {\n",
       "        text-align: right;\n",
       "    }\n",
       "</style>\n",
       "<table border=\"1\" class=\"dataframe\">\n",
       "  <thead>\n",
       "    <tr style=\"text-align: right;\">\n",
       "      <th></th>\n",
       "      <th>response</th>\n",
       "      <th>sampled_responses</th>\n",
       "      <th>prompt</th>\n",
       "      <th>sentence_set</th>\n",
       "      <th>entailment</th>\n",
       "      <th>noncontradiction</th>\n",
       "      <th>contrasted_entailment</th>\n",
       "    </tr>\n",
       "  </thead>\n",
       "  <tbody>\n",
       "    <tr>\n",
       "      <th>0</th>\n",
       "      <td>Sir Paul McCartney is one of the most celebrat...</td>\n",
       "      <td>[Sir Paul McCartney stands as one of the most ...</td>\n",
       "      <td>write a paragraph about Paul McCartney</td>\n",
       "      <td>[Sir Paul McCartney is one of the most celebra...</td>\n",
       "      <td>[0.9667072296142578, 0.5901162475347519, 0.921...</td>\n",
       "      <td>[0.9994462132453918, 0.9991875886917114, 0.999...</td>\n",
       "      <td>[0.9994173645973206, 0.9969615638256073, 0.999...</td>\n",
       "    </tr>\n",
       "    <tr>\n",
       "      <th>1</th>\n",
       "      <td>John Lennon remains one of the most iconic and...</td>\n",
       "      <td>[John Lennon, an iconic figure in 20th-century...</td>\n",
       "      <td>write a paragraph about John Lennon</td>\n",
       "      <td>[John Lennon remains one of the most iconic an...</td>\n",
       "      <td>[0.9902316629886627, 0.942951887845993, 0.9036...</td>\n",
       "      <td>[0.9996265769004822, 0.9995386898517609, 0.999...</td>\n",
       "      <td>[0.999622255563736, 0.9995062351226807, 0.9991...</td>\n",
       "    </tr>\n",
       "  </tbody>\n",
       "</table>\n",
       "</div>"
      ],
      "text/plain": [
       "                                            response  \\\n",
       "0  Sir Paul McCartney is one of the most celebrat...   \n",
       "1  John Lennon remains one of the most iconic and...   \n",
       "\n",
       "                                   sampled_responses  \\\n",
       "0  [Sir Paul McCartney stands as one of the most ...   \n",
       "1  [John Lennon, an iconic figure in 20th-century...   \n",
       "\n",
       "                                   prompt  \\\n",
       "0  write a paragraph about Paul McCartney   \n",
       "1     write a paragraph about John Lennon   \n",
       "\n",
       "                                        sentence_set  \\\n",
       "0  [Sir Paul McCartney is one of the most celebra...   \n",
       "1  [John Lennon remains one of the most iconic an...   \n",
       "\n",
       "                                          entailment  \\\n",
       "0  [0.9667072296142578, 0.5901162475347519, 0.921...   \n",
       "1  [0.9902316629886627, 0.942951887845993, 0.9036...   \n",
       "\n",
       "                                    noncontradiction  \\\n",
       "0  [0.9994462132453918, 0.9991875886917114, 0.999...   \n",
       "1  [0.9996265769004822, 0.9995386898517609, 0.999...   \n",
       "\n",
       "                               contrasted_entailment  \n",
       "0  [0.9994173645973206, 0.9969615638256073, 0.999...  \n",
       "1  [0.999622255563736, 0.9995062351226807, 0.9991...  "
      ]
     },
     "execution_count": 6,
     "metadata": {},
     "output_type": "execute_result"
    }
   ],
   "source": [
    "# Sentence-Response UQ: sentence-level scoring\n",
    "sent_lfuq = LongFormUQ(llm=llm, granularity=\"sentence\", mode=\"unit_response\", aggregation_method=None, device=device)\n",
    "result = await sent_lfuq.generate_and_score(prompts=prompts, num_responses=2)\n",
    "result.to_df()"
   ]
  },
  {
   "cell_type": "code",
   "execution_count": 7,
   "id": "195ee8a7-b417-42d9-b5e4-23769ba1f6f2",
   "metadata": {
    "tags": []
   },
   "outputs": [
    {
     "data": {
      "application/vnd.jupyter.widget-view+json": {
       "model_id": "a00c4c353fda43ee8d86e63d2fbabe19",
       "version_major": 2,
       "version_minor": 0
      },
      "text/plain": [
       "Output()"
      ]
     },
     "metadata": {},
     "output_type": "display_data"
    },
    {
     "data": {
      "text/html": [
       "<pre style=\"white-space:pre;overflow-x:auto;line-height:normal;font-family:Menlo,'DejaVu Sans Mono',consolas,'Courier New',monospace\"></pre>\n"
      ],
      "text/plain": []
     },
     "metadata": {},
     "output_type": "display_data"
    },
    {
     "data": {
      "application/vnd.jupyter.widget-view+json": {
       "model_id": "b7efdf5551a14252966dec616091acc1",
       "version_major": 2,
       "version_minor": 0
      },
      "text/plain": [
       "Output()"
      ]
     },
     "metadata": {},
     "output_type": "display_data"
    },
    {
     "data": {
      "text/html": [
       "<pre style=\"white-space:pre;overflow-x:auto;line-height:normal;font-family:Menlo,'DejaVu Sans Mono',consolas,'Courier New',monospace\"></pre>\n"
      ],
      "text/plain": []
     },
     "metadata": {},
     "output_type": "display_data"
    },
    {
     "data": {
      "text/html": [
       "<div>\n",
       "<style scoped>\n",
       "    .dataframe tbody tr th:only-of-type {\n",
       "        vertical-align: middle;\n",
       "    }\n",
       "\n",
       "    .dataframe tbody tr th {\n",
       "        vertical-align: top;\n",
       "    }\n",
       "\n",
       "    .dataframe thead th {\n",
       "        text-align: right;\n",
       "    }\n",
       "</style>\n",
       "<table border=\"1\" class=\"dataframe\">\n",
       "  <thead>\n",
       "    <tr style=\"text-align: right;\">\n",
       "      <th></th>\n",
       "      <th>response</th>\n",
       "      <th>sampled_responses</th>\n",
       "      <th>prompt</th>\n",
       "      <th>claim_set</th>\n",
       "      <th>entailment</th>\n",
       "      <th>noncontradiction</th>\n",
       "      <th>contrasted_entailment</th>\n",
       "    </tr>\n",
       "  </thead>\n",
       "  <tbody>\n",
       "    <tr>\n",
       "      <th>0</th>\n",
       "      <td>Paul McCartney is an undisputed titan of music...</td>\n",
       "      <td>[Sir Paul McCartney stands as one of the most ...</td>\n",
       "      <td>write a paragraph about Paul McCartney</td>\n",
       "      <td>[Paul McCartney is an undisputed titan of musi...</td>\n",
       "      <td>[0.8392975330352783, 0.4484418034553528, 0.064...</td>\n",
       "      <td>[0.9980470538139343, 0.9929606914520264, 0.986...</td>\n",
       "      <td>[0.9976764023303986, 0.9839319288730621, 0.702...</td>\n",
       "    </tr>\n",
       "    <tr>\n",
       "      <th>1</th>\n",
       "      <td>John Lennon remains one of the most iconic and...</td>\n",
       "      <td>[John Lennon remains one of the most iconic an...</td>\n",
       "      <td>write a paragraph about John Lennon</td>\n",
       "      <td>[John Lennon is one of the most iconic figures...</td>\n",
       "      <td>[0.9698392152786255, 0.9648253917694092, 0.553...</td>\n",
       "      <td>[0.9995621740818024, 0.9995166659355164, 0.678...</td>\n",
       "      <td>[0.9995458722114563, 0.9994959831237793, 0.574...</td>\n",
       "    </tr>\n",
       "  </tbody>\n",
       "</table>\n",
       "</div>"
      ],
      "text/plain": [
       "                                            response  \\\n",
       "0  Paul McCartney is an undisputed titan of music...   \n",
       "1  John Lennon remains one of the most iconic and...   \n",
       "\n",
       "                                   sampled_responses  \\\n",
       "0  [Sir Paul McCartney stands as one of the most ...   \n",
       "1  [John Lennon remains one of the most iconic an...   \n",
       "\n",
       "                                   prompt  \\\n",
       "0  write a paragraph about Paul McCartney   \n",
       "1     write a paragraph about John Lennon   \n",
       "\n",
       "                                           claim_set  \\\n",
       "0  [Paul McCartney is an undisputed titan of musi...   \n",
       "1  [John Lennon is one of the most iconic figures...   \n",
       "\n",
       "                                          entailment  \\\n",
       "0  [0.8392975330352783, 0.4484418034553528, 0.064...   \n",
       "1  [0.9698392152786255, 0.9648253917694092, 0.553...   \n",
       "\n",
       "                                    noncontradiction  \\\n",
       "0  [0.9980470538139343, 0.9929606914520264, 0.986...   \n",
       "1  [0.9995621740818024, 0.9995166659355164, 0.678...   \n",
       "\n",
       "                               contrasted_entailment  \n",
       "0  [0.9976764023303986, 0.9839319288730621, 0.702...  \n",
       "1  [0.9995458722114563, 0.9994959831237793, 0.574...  "
      ]
     },
     "execution_count": 7,
     "metadata": {},
     "output_type": "execute_result"
    }
   ],
   "source": [
    "# Claim-Response UQ:  claim-level scoring\n",
    "claim_lfuq = LongFormUQ(llm=llm, granularity=\"claim\", mode=\"unit_response\", aggregation_method=None, device=device)\n",
    "result = await claim_lfuq.generate_and_score(prompts=prompts, num_responses=2)\n",
    "result.to_df()"
   ]
  },
  {
   "cell_type": "code",
   "execution_count": 5,
   "id": "6e50a2e1-0f63-4479-b66f-76f463b05f06",
   "metadata": {
    "tags": []
   },
   "outputs": [
    {
     "data": {
      "application/vnd.jupyter.widget-view+json": {
       "model_id": "8e8af3ef20064385a427bf079f1345ef",
       "version_major": 2,
       "version_minor": 0
      },
      "text/plain": [
       "Output()"
      ]
     },
     "metadata": {},
     "output_type": "display_data"
    },
    {
     "data": {
      "text/html": [
       "<pre style=\"white-space:pre;overflow-x:auto;line-height:normal;font-family:Menlo,'DejaVu Sans Mono',consolas,'Courier New',monospace\"></pre>\n"
      ],
      "text/plain": []
     },
     "metadata": {},
     "output_type": "display_data"
    },
    {
     "data": {
      "application/vnd.jupyter.widget-view+json": {
       "model_id": "3731e907591642e192ec3453c1257a33",
       "version_major": 2,
       "version_minor": 0
      },
      "text/plain": [
       "Output()"
      ]
     },
     "metadata": {},
     "output_type": "display_data"
    },
    {
     "data": {
      "text/html": [
       "<pre style=\"white-space:pre;overflow-x:auto;line-height:normal;font-family:Menlo,'DejaVu Sans Mono',consolas,'Courier New',monospace\"></pre>\n"
      ],
      "text/plain": []
     },
     "metadata": {},
     "output_type": "display_data"
    },
    {
     "data": {
      "text/html": [
       "<div>\n",
       "<style scoped>\n",
       "    .dataframe tbody tr th:only-of-type {\n",
       "        vertical-align: middle;\n",
       "    }\n",
       "\n",
       "    .dataframe tbody tr th {\n",
       "        vertical-align: top;\n",
       "    }\n",
       "\n",
       "    .dataframe thead th {\n",
       "        text-align: right;\n",
       "    }\n",
       "</style>\n",
       "<table border=\"1\" class=\"dataframe\">\n",
       "  <thead>\n",
       "    <tr style=\"text-align: right;\">\n",
       "      <th></th>\n",
       "      <th>response</th>\n",
       "      <th>sampled_responses</th>\n",
       "      <th>prompt</th>\n",
       "      <th>claim_set</th>\n",
       "      <th>entailment</th>\n",
       "      <th>noncontradiction</th>\n",
       "      <th>contrasted_entailment</th>\n",
       "      <th>cosine_sim</th>\n",
       "      <th>bert_score</th>\n",
       "    </tr>\n",
       "  </thead>\n",
       "  <tbody>\n",
       "    <tr>\n",
       "      <th>0</th>\n",
       "      <td>Sir Paul McCartney stands as one of the most i...</td>\n",
       "      <td>[Paul McCartney stands as one of the most cele...</td>\n",
       "      <td>write a paragraph about Paul McCartney</td>\n",
       "      <td>[Sir Paul McCartney is one of the most iconic ...</td>\n",
       "      <td>[0.5723282769322395, 0.5403065569698811, 0.614...</td>\n",
       "      <td>[0.9995814561843872, 0.9996109306812286, 0.999...</td>\n",
       "      <td>[0.9970733225345612, 0.9955335855484009, 0.995...</td>\n",
       "      <td>[0.9795704931020737, 0.9917527288198471, 0.950...</td>\n",
       "      <td>[0.9822260737419128, 0.9859554171562195, 0.962...</td>\n",
       "    </tr>\n",
       "    <tr>\n",
       "      <th>1</th>\n",
       "      <td>John Lennon remains one of the most iconic and...</td>\n",
       "      <td>[John Lennon remains one of the most iconic an...</td>\n",
       "      <td>write a paragraph about John Lennon</td>\n",
       "      <td>[John Lennon remains one of the most iconic fi...</td>\n",
       "      <td>[0.5577000826597214, 0.5492749214172363, 0.563...</td>\n",
       "      <td>[0.9996176064014435, 0.9996269941329956, 0.998...</td>\n",
       "      <td>[0.9963062703609467, 0.9962500929832458, 0.995...</td>\n",
       "      <td>[0.9820920377969742, 0.9827326089143753, 0.956...</td>\n",
       "      <td>[0.983920693397522, 0.9822609722614288, 0.9589...</td>\n",
       "    </tr>\n",
       "  </tbody>\n",
       "</table>\n",
       "</div>"
      ],
      "text/plain": [
       "                                            response  \\\n",
       "0  Sir Paul McCartney stands as one of the most i...   \n",
       "1  John Lennon remains one of the most iconic and...   \n",
       "\n",
       "                                   sampled_responses  \\\n",
       "0  [Paul McCartney stands as one of the most cele...   \n",
       "1  [John Lennon remains one of the most iconic an...   \n",
       "\n",
       "                                   prompt  \\\n",
       "0  write a paragraph about Paul McCartney   \n",
       "1     write a paragraph about John Lennon   \n",
       "\n",
       "                                           claim_set  \\\n",
       "0  [Sir Paul McCartney is one of the most iconic ...   \n",
       "1  [John Lennon remains one of the most iconic fi...   \n",
       "\n",
       "                                          entailment  \\\n",
       "0  [0.5723282769322395, 0.5403065569698811, 0.614...   \n",
       "1  [0.5577000826597214, 0.5492749214172363, 0.563...   \n",
       "\n",
       "                                    noncontradiction  \\\n",
       "0  [0.9995814561843872, 0.9996109306812286, 0.999...   \n",
       "1  [0.9996176064014435, 0.9996269941329956, 0.998...   \n",
       "\n",
       "                               contrasted_entailment  \\\n",
       "0  [0.9970733225345612, 0.9955335855484009, 0.995...   \n",
       "1  [0.9963062703609467, 0.9962500929832458, 0.995...   \n",
       "\n",
       "                                          cosine_sim  \\\n",
       "0  [0.9795704931020737, 0.9917527288198471, 0.950...   \n",
       "1  [0.9820920377969742, 0.9827326089143753, 0.956...   \n",
       "\n",
       "                                          bert_score  \n",
       "0  [0.9822260737419128, 0.9859554171562195, 0.962...  \n",
       "1  [0.983920693397522, 0.9822609722614288, 0.9589...  "
      ]
     },
     "execution_count": 5,
     "metadata": {},
     "output_type": "execute_result"
    }
   ],
   "source": [
    "# matched claim UQ: claim-level scoring\n",
    "matched_claim_lfuq = LongFormUQ(llm=llm, granularity=\"claim\", mode=\"matched_unit\", aggregation_method=None, device=device)\n",
    "result = await matched_claim_lfuq.generate_and_score(prompts=prompts, num_responses=2)\n",
    "result.to_df()"
   ]
  },
  {
   "cell_type": "code",
   "execution_count": 5,
   "id": "c3db1976-5a48-4bc4-8982-d9712faea044",
   "metadata": {
    "tags": []
   },
   "outputs": [
    {
     "data": {
      "application/vnd.jupyter.widget-view+json": {
       "model_id": "60d60e0b7cc74d45bfe9cfce51865e4d",
       "version_major": 2,
       "version_minor": 0
      },
      "text/plain": [
       "Output()"
      ]
     },
     "metadata": {},
     "output_type": "display_data"
    },
    {
     "data": {
      "text/html": [
       "<pre style=\"white-space:pre;overflow-x:auto;line-height:normal;font-family:Menlo,'DejaVu Sans Mono',consolas,'Courier New',monospace\"></pre>\n"
      ],
      "text/plain": []
     },
     "metadata": {},
     "output_type": "display_data"
    },
    {
     "data": {
      "application/vnd.jupyter.widget-view+json": {
       "model_id": "5d59850033ba47b0a1e016cb39e2c09d",
       "version_major": 2,
       "version_minor": 0
      },
      "text/plain": [
       "Output()"
      ]
     },
     "metadata": {},
     "output_type": "display_data"
    },
    {
     "data": {
      "text/html": [
       "<pre style=\"white-space:pre;overflow-x:auto;line-height:normal;font-family:Menlo,'DejaVu Sans Mono',consolas,'Courier New',monospace\"></pre>\n"
      ],
      "text/plain": []
     },
     "metadata": {},
     "output_type": "display_data"
    },
    {
     "data": {
      "text/html": [
       "<div>\n",
       "<style scoped>\n",
       "    .dataframe tbody tr th:only-of-type {\n",
       "        vertical-align: middle;\n",
       "    }\n",
       "\n",
       "    .dataframe tbody tr th {\n",
       "        vertical-align: top;\n",
       "    }\n",
       "\n",
       "    .dataframe thead th {\n",
       "        text-align: right;\n",
       "    }\n",
       "</style>\n",
       "<table border=\"1\" class=\"dataframe\">\n",
       "  <thead>\n",
       "    <tr style=\"text-align: right;\">\n",
       "      <th></th>\n",
       "      <th>response</th>\n",
       "      <th>sampled_responses</th>\n",
       "      <th>prompt</th>\n",
       "      <th>sentence_set</th>\n",
       "      <th>entailment</th>\n",
       "      <th>noncontradiction</th>\n",
       "      <th>contrasted_entailment</th>\n",
       "      <th>cosine_sim</th>\n",
       "      <th>bert_score</th>\n",
       "    </tr>\n",
       "  </thead>\n",
       "  <tbody>\n",
       "    <tr>\n",
       "      <th>0</th>\n",
       "      <td>Paul McCartney stands as one of the most iconi...</td>\n",
       "      <td>[Sir Paul McCartney is one of the most iconic ...</td>\n",
       "      <td>write a paragraph about Paul McCartney</td>\n",
       "      <td>[Paul McCartney stands as one of the most icon...</td>\n",
       "      <td>[0.8904413282871246, 0.05869482085108757, 0.82...</td>\n",
       "      <td>[0.9995529651641846, 0.9992298185825348, 0.999...</td>\n",
       "      <td>[0.9993205666542053, 0.9838801324367523, 0.999...</td>\n",
       "      <td>[0.9508362859487534, 0.8191811144351959, 0.957...</td>\n",
       "      <td>[0.9439810812473297, 0.8969708681106567, 0.925...</td>\n",
       "    </tr>\n",
       "    <tr>\n",
       "      <th>1</th>\n",
       "      <td>John Lennon remains one of the most iconic and...</td>\n",
       "      <td>[John Lennon remains one of the most iconic an...</td>\n",
       "      <td>write a paragraph about John Lennon</td>\n",
       "      <td>[John Lennon remains one of the most iconic an...</td>\n",
       "      <td>[0.12136035785079002, 0.2189687117934227, 0.21...</td>\n",
       "      <td>[0.9990199506282806, 0.9993440508842468, 0.999...</td>\n",
       "      <td>[0.9889121353626251, 0.9963703453540802, 0.992...</td>\n",
       "      <td>[0.957445427775383, 0.9118515104055405, 0.9181...</td>\n",
       "      <td>[0.952458381652832, 0.8947174251079559, 0.8968...</td>\n",
       "    </tr>\n",
       "  </tbody>\n",
       "</table>\n",
       "</div>"
      ],
      "text/plain": [
       "                                            response  \\\n",
       "0  Paul McCartney stands as one of the most iconi...   \n",
       "1  John Lennon remains one of the most iconic and...   \n",
       "\n",
       "                                   sampled_responses  \\\n",
       "0  [Sir Paul McCartney is one of the most iconic ...   \n",
       "1  [John Lennon remains one of the most iconic an...   \n",
       "\n",
       "                                   prompt  \\\n",
       "0  write a paragraph about Paul McCartney   \n",
       "1     write a paragraph about John Lennon   \n",
       "\n",
       "                                        sentence_set  \\\n",
       "0  [Paul McCartney stands as one of the most icon...   \n",
       "1  [John Lennon remains one of the most iconic an...   \n",
       "\n",
       "                                          entailment  \\\n",
       "0  [0.8904413282871246, 0.05869482085108757, 0.82...   \n",
       "1  [0.12136035785079002, 0.2189687117934227, 0.21...   \n",
       "\n",
       "                                    noncontradiction  \\\n",
       "0  [0.9995529651641846, 0.9992298185825348, 0.999...   \n",
       "1  [0.9990199506282806, 0.9993440508842468, 0.999...   \n",
       "\n",
       "                               contrasted_entailment  \\\n",
       "0  [0.9993205666542053, 0.9838801324367523, 0.999...   \n",
       "1  [0.9889121353626251, 0.9963703453540802, 0.992...   \n",
       "\n",
       "                                          cosine_sim  \\\n",
       "0  [0.9508362859487534, 0.8191811144351959, 0.957...   \n",
       "1  [0.957445427775383, 0.9118515104055405, 0.9181...   \n",
       "\n",
       "                                          bert_score  \n",
       "0  [0.9439810812473297, 0.8969708681106567, 0.925...  \n",
       "1  [0.952458381652832, 0.8947174251079559, 0.8968...  "
      ]
     },
     "execution_count": 5,
     "metadata": {},
     "output_type": "execute_result"
    }
   ],
   "source": [
    "# matched sentence UQ: sentence-level scoring\n",
    "matched_sent_lfuq = LongFormUQ(llm=llm, granularity=\"sentence\", mode=\"matched_unit\", aggregation_method=None, device=device)\n",
    "result = await matched_sent_lfuq.generate_and_score(prompts=prompts, num_responses=2)\n",
    "result.to_df()"
   ]
  },
  {
   "cell_type": "markdown",
   "id": "671d0d56-4dfc-4607-8222-46828b90e427",
   "metadata": {
    "tags": []
   },
   "source": [
    "#### Decomposition"
   ]
  },
  {
   "cell_type": "code",
   "execution_count": 6,
   "id": "16a38c6b-6ae5-4fe8-addc-68f639d3ffb2",
   "metadata": {
    "tags": []
   },
   "outputs": [],
   "source": [
    "from uqlm.longform import ResponseDecomposer"
   ]
  },
  {
   "cell_type": "code",
   "execution_count": 7,
   "id": "06cf93d8-320e-4fd8-a2d8-551f5a3d710f",
   "metadata": {
    "tags": []
   },
   "outputs": [],
   "source": [
    "rd = ResponseDecomposer(llm)"
   ]
  },
  {
   "cell_type": "code",
   "execution_count": 8,
   "id": "a5fb9e10-96c7-41a9-ab25-a43580ffe47a",
   "metadata": {
    "tags": []
   },
   "outputs": [],
   "source": [
    "responses = [\n",
    "    \"Hello there! Today I visited Dr. Chauhan at his home. He was hanging his framed B.S., M.S., and Ph.D. degrees. It was fun!\", \n",
    "    \"One time I went on a class trip to D.C. to visit the white house. While there, I felt in awe of the beutiful art and important people with titles such as Prof., Esq., and others.\"\n",
    "]\n",
    "\n",
    "sampled_responses = [\n",
    "    [\n",
    "        \"Hi! I went to see Dr. Chauhan at his house today. He was busy putting up his framed B.S., M.S., and Ph.D. diplomas. It was quite enjoyable!\", \n",
    "        \"Greetings! Today, I stopped by Dr. Chauhan's home. He was in the process of displaying his framed degrees: B.S., M.S., and Ph.D. It was a delightful experience!\"\n",
    "    ],\n",
    "    [\n",
    "        \"Once, I took a school trip to Washington, D.C. to see the White House. While I was there, I was amazed by the stunning artwork and the notable individuals with titles like Professor, Esquire, and more.\",\n",
    "        \"During a class excursion to Washington, D.C., I had the opportunity to visit the White House. I was struck by the beautiful art and the distinguished people holding titles such as Prof., Esq., and others.\",\n",
    "    ],\n",
    "]"
   ]
  },
  {
   "cell_type": "code",
   "execution_count": 9,
   "id": "dfa19681-7702-43ca-9501-b40fc7abf013",
   "metadata": {
    "tags": []
   },
   "outputs": [
    {
     "data": {
      "text/plain": [
       "[['Hello there!',\n",
       "  'Today I visited Dr. Chauhan at his home.',\n",
       "  'He was hanging his framed B.S., M.S., and Ph.D. degrees.',\n",
       "  'It was fun!'],\n",
       " ['One time I went on a class trip to D.C. to visit the white house.',\n",
       "  'While there, I felt in awe of the beutiful art and important people with titles such as Prof., Esq., and others.']]"
      ]
     },
     "execution_count": 9,
     "metadata": {},
     "output_type": "execute_result"
    }
   ],
   "source": [
    "# Decompose responses into sentences\n",
    "rd.decompose_sentences(responses=responses)"
   ]
  },
  {
   "cell_type": "code",
   "execution_count": 10,
   "id": "04da8ce0-ae05-4874-81b6-fedf114c0aee",
   "metadata": {
    "tags": []
   },
   "outputs": [
    {
     "data": {
      "text/plain": [
       "[[['Hi!',\n",
       "   'I went to see Dr. Chauhan at his house today.',\n",
       "   'He was busy putting up his framed B.S., M.S., and Ph.D. diplomas.',\n",
       "   'It was quite enjoyable!'],\n",
       "  ['Greetings!',\n",
       "   \"Today, I stopped by Dr. Chauhan's home.\",\n",
       "   'He was in the process of displaying his framed degrees: B.S., M.S., and Ph.D. It was a delightful experience!']],\n",
       " [['Once, I took a school trip to Washington, D.C. to see the White House.',\n",
       "   'While I was there, I was amazed by the stunning artwork and the notable individuals with titles like Professor, Esquire, and more.'],\n",
       "  ['During a class excursion to Washington, D.C., I had the opportunity to visit the White House.',\n",
       "   'I was struck by the beautiful art and the distinguished people holding titles such as Prof., Esq., and others.']]]"
      ]
     },
     "execution_count": 10,
     "metadata": {},
     "output_type": "execute_result"
    }
   ],
   "source": [
    "# Decompose sampled responses into sentences\n",
    "rd.decompose_candidate_sentences(sampled_responses=sampled_responses)"
   ]
  },
  {
   "cell_type": "code",
   "execution_count": 12,
   "id": "f4080394-2088-4d28-9cc2-3ae8484a47ce",
   "metadata": {
    "tags": []
   },
   "outputs": [
    {
     "data": {
      "text/plain": [
       "[['I visited Dr. Chauhan.\\n',\n",
       "  'I visited Dr. Chauhan at his home.\\n',\n",
       "  'Dr. Chauhan was hanging his degrees.\\n',\n",
       "  'Dr. Chauhan was hanging his B.S. degree.\\n',\n",
       "  'Dr. Chauhan was hanging his M.S. degree.\\n',\n",
       "  'Dr. Chauhan was hanging his Ph.D. degree.\\n',\n",
       "  \"Dr. Chauhan's degrees were framed.\\n\",\n",
       "  'It was fun.\\n'],\n",
       " ['I went on a class trip.\\n',\n",
       "  'The class trip was to D.C.\\n',\n",
       "  'I visited the white house.\\n',\n",
       "  'I felt in awe.\\n',\n",
       "  'The art was beautiful.\\n',\n",
       "  'The people were important.\\n',\n",
       "  'The people had titles.\\n',\n",
       "  'The titles included Prof..\\n',\n",
       "  'The titles included Esq..\\n',\n",
       "  'The titles included others.\\n\\n']]"
      ]
     },
     "execution_count": 12,
     "metadata": {},
     "output_type": "execute_result"
    }
   ],
   "source": [
    "# Decompose responses into claims\n",
    "await rd.decompose_claims(responses=responses)"
   ]
  },
  {
   "cell_type": "code",
   "execution_count": 15,
   "id": "cade8967-64e4-4cc4-91d6-d4317df93828",
   "metadata": {},
   "outputs": [
    {
     "data": {
      "text/plain": [
       "[[['I went to see Dr. Chauhan.\\n',\n",
       "   'I went to see Dr. Chauhan at his house.\\n',\n",
       "   'I went to see Dr. Chauhan today.\\n',\n",
       "   'Dr. Chauhan was busy.\\n',\n",
       "   'Dr. Chauhan was putting up diplomas.\\n',\n",
       "   'Dr. Chauhan was putting up framed diplomas.\\n',\n",
       "   \"Dr. Chauhan's diplomas were framed.\\n\",\n",
       "   \"Dr. Chauhan's diplomas were B.S. diplomas.\\n\",\n",
       "   \"Dr. Chauhan's diplomas were M.S. diplomas.\\n\",\n",
       "   \"Dr. Chauhan's diplomas were Ph.D. diplomas.\\n\",\n",
       "   'It was enjoyable.\\n'],\n",
       "  [\"I stopped by Dr. Chauhan's home.\\n\",\n",
       "   'Dr. Chauhan was displaying his framed degrees.\\n',\n",
       "   'Dr. Chauhan has a B.S. degree.\\n',\n",
       "   'Dr. Chauhan has an M.S. degree.\\n',\n",
       "   'Dr. Chauhan has a Ph.D. degree.\\n',\n",
       "   'The experience was delightful.\\n']],\n",
       " [['I took a school trip.\\n',\n",
       "   'The school trip was to Washington, D.C.\\n',\n",
       "   'I went to see the White House.\\n',\n",
       "   'I was amazed by the artwork.\\n',\n",
       "   'The artwork was stunning.\\n',\n",
       "   'I was amazed by the individuals.\\n',\n",
       "   'The individuals were notable.\\n',\n",
       "   'The individuals had titles.\\n',\n",
       "   'The titles included Professor.\\n',\n",
       "   'The titles included Esquire.\\n\\n'],\n",
       "  ['I had the opportunity to visit the White House.\\n',\n",
       "   'The visit was during a class excursion.\\n',\n",
       "   'The class excursion was to Washington, D.C.\\n',\n",
       "   'I was struck by the beautiful art.\\n',\n",
       "   'I was struck by the distinguished people.\\n',\n",
       "   'The distinguished people held titles.\\n',\n",
       "   'The titles included Prof.\\n',\n",
       "   'The titles included Esq.\\n',\n",
       "   'The titles included others.\\n\\n']]]"
      ]
     },
     "execution_count": 15,
     "metadata": {},
     "output_type": "execute_result"
    }
   ],
   "source": [
    "# Decompose sampled responses into claims\n",
    "await rd.decompose_candidate_claims(sampled_responses=sampled_responses)"
   ]
  },
  {
   "cell_type": "code",
   "execution_count": null,
   "id": "50b7d5c4-e672-4cb0-b7fd-d671b79ca98c",
   "metadata": {},
   "outputs": [],
   "source": []
  },
  {
   "cell_type": "code",
   "execution_count": null,
   "id": "262d4d0a-584b-4144-8ef2-f14927d5cca8",
   "metadata": {},
   "outputs": [],
   "source": []
  }
 ],
 "metadata": {
  "environment": {
   "kernel": "uqlm_my_test",
   "name": "workbench-notebooks.m126",
   "type": "gcloud",
   "uri": "us-docker.pkg.dev/deeplearning-platform-release/gcr.io/workbench-notebooks:m126"
  },
  "kernelspec": {
   "display_name": "uqlm_my_test",
   "language": "python",
   "name": "uqlm_my_test"
  },
  "language_info": {
   "codemirror_mode": {
    "name": "ipython",
    "version": 3
   },
   "file_extension": ".py",
   "mimetype": "text/x-python",
   "name": "python",
   "nbconvert_exporter": "python",
   "pygments_lexer": "ipython3",
   "version": "3.11.12"
  }
 },
 "nbformat": 4,
 "nbformat_minor": 5
}
