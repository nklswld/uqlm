{
 "cells": [
  {
   "cell_type": "markdown",
   "id": "0678f84c-2fe2-42be-a69b-21f6b4260245",
   "metadata": {
    "tags": []
   },
   "source": [
    "#### Load LLM and device"
   ]
  },
  {
   "cell_type": "code",
   "execution_count": 1,
   "id": "8bd9f1d2-8ff2-4572-bee7-a1cf9db7274d",
   "metadata": {
    "tags": []
   },
   "outputs": [],
   "source": [
    "from langchain_google_vertexai import ChatVertexAI\n",
    "llm = ChatVertexAI(model=\"gemini-2.5-flash\")"
   ]
  },
  {
   "cell_type": "code",
   "execution_count": 2,
   "id": "5b33e73b-04c3-40f1-afb6-0446aa1fbb49",
   "metadata": {
    "tags": []
   },
   "outputs": [
    {
     "name": "stdout",
     "output_type": "stream",
     "text": [
      "Using cuda device\n"
     ]
    }
   ],
   "source": [
    "import torch\n",
    "\n",
    "# Set the torch device\n",
    "if torch.cuda.is_available():  # NVIDIA GPU\n",
    "    device = torch.device(\"cuda\")\n",
    "elif torch.backends.mps.is_available():  # macOS\n",
    "    device = torch.device(\"mps\")\n",
    "else:\n",
    "    device = torch.device(\"cpu\")  # CPU\n",
    "print(f\"Using {device.type} device\")"
   ]
  },
  {
   "cell_type": "markdown",
   "id": "850b7add-c6d7-47e3-985e-02380b1de835",
   "metadata": {},
   "source": [
    "#### LongForm UQ"
   ]
  },
  {
   "cell_type": "code",
   "execution_count": 3,
   "id": "b69f0a78-5501-40db-979e-bbca20f78628",
   "metadata": {
    "tags": []
   },
   "outputs": [],
   "source": [
    "from uqlm import LongFormUQ"
   ]
  },
  {
   "cell_type": "code",
   "execution_count": 4,
   "id": "4a38c40c-7b4d-4a1c-adda-c3b616542a1a",
   "metadata": {
    "tags": []
   },
   "outputs": [],
   "source": [
    "prompts = [\"write a paragraph about Paul McCartney\", \"write a paragraph about John Lennon\"]\n",
    "sent_scorers = [\"response_sent_entail\", \"response_sent_noncontradict\", \"response_sent_contrast_entail\"]\n",
    "claim_scorers = [\"response_claim_entail\", \"response_claim_noncontradict\", \"response_claim_contrast_entail\"]\n",
    "matched_claim_scorers = [\"matched_claim_entail\", \"matched_claim_noncontradict\", \"matched_claim_contrast_entail\"]"
   ]
  },
  {
   "cell_type": "code",
   "execution_count": 5,
   "id": "bcd049f3-bb77-4f85-b673-bb0366e9d9ff",
   "metadata": {
    "tags": []
   },
   "outputs": [
    {
     "data": {
      "application/vnd.jupyter.widget-view+json": {
       "model_id": "5f7351bdc5e742ee8bb259653bc9a922",
       "version_major": 2,
       "version_minor": 0
      },
      "text/plain": [
       "Output()"
      ]
     },
     "metadata": {},
     "output_type": "display_data"
    },
    {
     "data": {
      "text/html": [
       "<pre style=\"white-space:pre;overflow-x:auto;line-height:normal;font-family:Menlo,'DejaVu Sans Mono',consolas,'Courier New',monospace\"></pre>\n"
      ],
      "text/plain": []
     },
     "metadata": {},
     "output_type": "display_data"
    },
    {
     "data": {
      "text/html": [
       "<div>\n",
       "<style scoped>\n",
       "    .dataframe tbody tr th:only-of-type {\n",
       "        vertical-align: middle;\n",
       "    }\n",
       "\n",
       "    .dataframe tbody tr th {\n",
       "        vertical-align: top;\n",
       "    }\n",
       "\n",
       "    .dataframe thead th {\n",
       "        text-align: right;\n",
       "    }\n",
       "</style>\n",
       "<table border=\"1\" class=\"dataframe\">\n",
       "  <thead>\n",
       "    <tr style=\"text-align: right;\">\n",
       "      <th></th>\n",
       "      <th>response</th>\n",
       "      <th>sampled_responses</th>\n",
       "      <th>prompt</th>\n",
       "      <th>sentence_set</th>\n",
       "      <th>response_sent_entail</th>\n",
       "      <th>response_sent_noncontradict</th>\n",
       "      <th>response_sent_contrast_entail</th>\n",
       "    </tr>\n",
       "  </thead>\n",
       "  <tbody>\n",
       "    <tr>\n",
       "      <th>0</th>\n",
       "      <td>Sir Paul McCartney stands as one of music's mo...</td>\n",
       "      <td>[Sir Paul McCartney stands as one of the most ...</td>\n",
       "      <td>write a paragraph about Paul McCartney</td>\n",
       "      <td>[Sir Paul McCartney stands as one of music's m...</td>\n",
       "      <td>0.487352</td>\n",
       "      <td>0.999049</td>\n",
       "      <td>0.955360</td>\n",
       "    </tr>\n",
       "    <tr>\n",
       "      <th>1</th>\n",
       "      <td>John Lennon remains one of the most influentia...</td>\n",
       "      <td>[John Lennon remains one of the most influenti...</td>\n",
       "      <td>write a paragraph about John Lennon</td>\n",
       "      <td>[John Lennon remains one of the most influenti...</td>\n",
       "      <td>0.177042</td>\n",
       "      <td>0.994447</td>\n",
       "      <td>0.737673</td>\n",
       "    </tr>\n",
       "  </tbody>\n",
       "</table>\n",
       "</div>"
      ],
      "text/plain": [
       "                                            response  \\\n",
       "0  Sir Paul McCartney stands as one of music's mo...   \n",
       "1  John Lennon remains one of the most influentia...   \n",
       "\n",
       "                                   sampled_responses  \\\n",
       "0  [Sir Paul McCartney stands as one of the most ...   \n",
       "1  [John Lennon remains one of the most influenti...   \n",
       "\n",
       "                                   prompt  \\\n",
       "0  write a paragraph about Paul McCartney   \n",
       "1     write a paragraph about John Lennon   \n",
       "\n",
       "                                        sentence_set  response_sent_entail  \\\n",
       "0  [Sir Paul McCartney stands as one of music's m...              0.487352   \n",
       "1  [John Lennon remains one of the most influenti...              0.177042   \n",
       "\n",
       "   response_sent_noncontradict  response_sent_contrast_entail  \n",
       "0                     0.999049                       0.955360  \n",
       "1                     0.994447                       0.737673  "
      ]
     },
     "execution_count": 5,
     "metadata": {},
     "output_type": "execute_result"
    }
   ],
   "source": [
    "# Sentence Level UQ\n",
    "sent_lfuq = LongFormUQ(llm=llm, scorers=sent_scorers, device=device)\n",
    "result = await sent_lfuq.generate_and_score(prompts=prompts, num_responses=2)\n",
    "result.to_df()"
   ]
  },
  {
   "cell_type": "code",
   "execution_count": 6,
   "id": "195ee8a7-b417-42d9-b5e4-23769ba1f6f2",
   "metadata": {
    "tags": []
   },
   "outputs": [
    {
     "data": {
      "application/vnd.jupyter.widget-view+json": {
       "model_id": "ed88e3440cde4668ba0384c0c075b514",
       "version_major": 2,
       "version_minor": 0
      },
      "text/plain": [
       "Output()"
      ]
     },
     "metadata": {},
     "output_type": "display_data"
    },
    {
     "data": {
      "text/html": [
       "<pre style=\"white-space:pre;overflow-x:auto;line-height:normal;font-family:Menlo,'DejaVu Sans Mono',consolas,'Courier New',monospace\"></pre>\n"
      ],
      "text/plain": []
     },
     "metadata": {},
     "output_type": "display_data"
    },
    {
     "data": {
      "text/html": [
       "<div>\n",
       "<style scoped>\n",
       "    .dataframe tbody tr th:only-of-type {\n",
       "        vertical-align: middle;\n",
       "    }\n",
       "\n",
       "    .dataframe tbody tr th {\n",
       "        vertical-align: top;\n",
       "    }\n",
       "\n",
       "    .dataframe thead th {\n",
       "        text-align: right;\n",
       "    }\n",
       "</style>\n",
       "<table border=\"1\" class=\"dataframe\">\n",
       "  <thead>\n",
       "    <tr style=\"text-align: right;\">\n",
       "      <th></th>\n",
       "      <th>response</th>\n",
       "      <th>sampled_responses</th>\n",
       "      <th>prompt</th>\n",
       "      <th>claim_set</th>\n",
       "      <th>response_claim_entail</th>\n",
       "      <th>response_claim_noncontradict</th>\n",
       "      <th>response_claim_contrast_entail</th>\n",
       "    </tr>\n",
       "  </thead>\n",
       "  <tbody>\n",
       "    <tr>\n",
       "      <th>0</th>\n",
       "      <td>Sir Paul McCartney is one of the most iconic a...</td>\n",
       "      <td>[Paul McCartney stands as one of the most icon...</td>\n",
       "      <td>write a paragraph about Paul McCartney</td>\n",
       "      <td>[Sir Paul McCartney is one of the most iconic ...</td>\n",
       "      <td>0.594142</td>\n",
       "      <td>0.995939</td>\n",
       "      <td>0.958484</td>\n",
       "    </tr>\n",
       "    <tr>\n",
       "      <th>1</th>\n",
       "      <td>John Lennon remains one of the most iconic and...</td>\n",
       "      <td>[John Lennon remains an iconic and often enigm...</td>\n",
       "      <td>write a paragraph about John Lennon</td>\n",
       "      <td>[John Lennon remains one of the most iconic fi...</td>\n",
       "      <td>0.590548</td>\n",
       "      <td>0.978050</td>\n",
       "      <td>0.876654</td>\n",
       "    </tr>\n",
       "  </tbody>\n",
       "</table>\n",
       "</div>"
      ],
      "text/plain": [
       "                                            response  \\\n",
       "0  Sir Paul McCartney is one of the most iconic a...   \n",
       "1  John Lennon remains one of the most iconic and...   \n",
       "\n",
       "                                   sampled_responses  \\\n",
       "0  [Paul McCartney stands as one of the most icon...   \n",
       "1  [John Lennon remains an iconic and often enigm...   \n",
       "\n",
       "                                   prompt  \\\n",
       "0  write a paragraph about Paul McCartney   \n",
       "1     write a paragraph about John Lennon   \n",
       "\n",
       "                                           claim_set  response_claim_entail  \\\n",
       "0  [Sir Paul McCartney is one of the most iconic ...               0.594142   \n",
       "1  [John Lennon remains one of the most iconic fi...               0.590548   \n",
       "\n",
       "   response_claim_noncontradict  response_claim_contrast_entail  \n",
       "0                      0.995939                        0.958484  \n",
       "1                      0.978050                        0.876654  "
      ]
     },
     "execution_count": 6,
     "metadata": {},
     "output_type": "execute_result"
    }
   ],
   "source": [
    "# Claim Level UQ\n",
    "claim_lfuq = LongFormUQ(llm=llm, scorers=claim_scorers, device=device)\n",
    "result = await claim_lfuq.generate_and_score(prompts=prompts, num_responses=2)\n",
    "result.to_df()"
   ]
  },
  {
   "cell_type": "code",
   "execution_count": 7,
   "id": "6e50a2e1-0f63-4479-b66f-76f463b05f06",
   "metadata": {
    "tags": []
   },
   "outputs": [
    {
     "data": {
      "application/vnd.jupyter.widget-view+json": {
       "model_id": "9278f77109a4497890c30e19c4e82b8a",
       "version_major": 2,
       "version_minor": 0
      },
      "text/plain": [
       "Output()"
      ]
     },
     "metadata": {},
     "output_type": "display_data"
    },
    {
     "data": {
      "text/html": [
       "<pre style=\"white-space:pre;overflow-x:auto;line-height:normal;font-family:Menlo,'DejaVu Sans Mono',consolas,'Courier New',monospace\"></pre>\n"
      ],
      "text/plain": []
     },
     "metadata": {},
     "output_type": "display_data"
    },
    {
     "data": {
      "text/html": [
       "<div>\n",
       "<style scoped>\n",
       "    .dataframe tbody tr th:only-of-type {\n",
       "        vertical-align: middle;\n",
       "    }\n",
       "\n",
       "    .dataframe tbody tr th {\n",
       "        vertical-align: top;\n",
       "    }\n",
       "\n",
       "    .dataframe thead th {\n",
       "        text-align: right;\n",
       "    }\n",
       "</style>\n",
       "<table border=\"1\" class=\"dataframe\">\n",
       "  <thead>\n",
       "    <tr style=\"text-align: right;\">\n",
       "      <th></th>\n",
       "      <th>response</th>\n",
       "      <th>sampled_responses</th>\n",
       "      <th>prompt</th>\n",
       "      <th>claim_set</th>\n",
       "      <th>matched_claim_entail</th>\n",
       "      <th>matched_claim_noncontradict</th>\n",
       "      <th>matched_claim_contrast_entail</th>\n",
       "    </tr>\n",
       "  </thead>\n",
       "  <tbody>\n",
       "    <tr>\n",
       "      <th>0</th>\n",
       "      <td>Paul McCartney stands as one of the most iconi...</td>\n",
       "      <td>[Paul McCartney is a legendary figure whose im...</td>\n",
       "      <td>write a paragraph about Paul McCartney</td>\n",
       "      <td>[Paul McCartney stands as one of the most icon...</td>\n",
       "      <td>0.597996</td>\n",
       "      <td>0.999010</td>\n",
       "      <td>0.964010</td>\n",
       "    </tr>\n",
       "    <tr>\n",
       "      <th>1</th>\n",
       "      <td>John Lennon remains one of the most iconic and...</td>\n",
       "      <td>[John Lennon remains one of the most iconic an...</td>\n",
       "      <td>write a paragraph about John Lennon</td>\n",
       "      <td>[John Lennon is one of the most iconic figures...</td>\n",
       "      <td>0.365631</td>\n",
       "      <td>0.990675</td>\n",
       "      <td>0.912773</td>\n",
       "    </tr>\n",
       "  </tbody>\n",
       "</table>\n",
       "</div>"
      ],
      "text/plain": [
       "                                            response  \\\n",
       "0  Paul McCartney stands as one of the most iconi...   \n",
       "1  John Lennon remains one of the most iconic and...   \n",
       "\n",
       "                                   sampled_responses  \\\n",
       "0  [Paul McCartney is a legendary figure whose im...   \n",
       "1  [John Lennon remains one of the most iconic an...   \n",
       "\n",
       "                                   prompt  \\\n",
       "0  write a paragraph about Paul McCartney   \n",
       "1     write a paragraph about John Lennon   \n",
       "\n",
       "                                           claim_set  matched_claim_entail  \\\n",
       "0  [Paul McCartney stands as one of the most icon...              0.597996   \n",
       "1  [John Lennon is one of the most iconic figures...              0.365631   \n",
       "\n",
       "   matched_claim_noncontradict  matched_claim_contrast_entail  \n",
       "0                     0.999010                       0.964010  \n",
       "1                     0.990675                       0.912773  "
      ]
     },
     "execution_count": 7,
     "metadata": {},
     "output_type": "execute_result"
    }
   ],
   "source": [
    "# matched claim UQ\n",
    "matched_claim_lfuq = LongFormUQ(llm=llm, scorers=matched_claim_scorers, device=device)\n",
    "result = await matched_claim_lfuq.generate_and_score(prompts=prompts, num_responses=2)\n",
    "result.to_df()"
   ]
  },
  {
   "cell_type": "code",
   "execution_count": null,
   "id": "c3db1976-5a48-4bc4-8982-d9712faea044",
   "metadata": {},
   "outputs": [],
   "source": []
  },
  {
   "cell_type": "markdown",
   "id": "671d0d56-4dfc-4607-8222-46828b90e427",
   "metadata": {
    "tags": []
   },
   "source": [
    "#### Decomposition"
   ]
  },
  {
   "cell_type": "code",
   "execution_count": 8,
   "id": "16a38c6b-6ae5-4fe8-addc-68f639d3ffb2",
   "metadata": {
    "tags": []
   },
   "outputs": [],
   "source": [
    "from uqlm.longform import ResponseDecomposer"
   ]
  },
  {
   "cell_type": "code",
   "execution_count": 9,
   "id": "06cf93d8-320e-4fd8-a2d8-551f5a3d710f",
   "metadata": {
    "tags": []
   },
   "outputs": [],
   "source": [
    "rd = ResponseDecomposer(llm)"
   ]
  },
  {
   "cell_type": "code",
   "execution_count": 14,
   "id": "a5fb9e10-96c7-41a9-ab25-a43580ffe47a",
   "metadata": {
    "tags": []
   },
   "outputs": [],
   "source": [
    "responses = [\n",
    "    \"Hello there! Today I visited Dr. Chauhan at his home. He was hanging his framed B.S., M.S., and Ph.D. degrees. It was fun!\",\n",
    "    \"One time I went on a class trip to D.C. to visit the white house. While there, I felt in awe of the beutiful art and important people with titles such as Prof., Esq., and others.\"\n",
    "]\n",
    "\n",
    "sampled_responses = [\n",
    "    [\n",
    "        \"Hi! I went to see Dr. Chauhan at his house today. He was busy putting up his framed B.S., M.S., and Ph.D. diplomas. It was quite enjoyable!\",\n",
    "        \"Greetings! Today, I stopped by Dr. Chauhan's home. He was in the process of displaying his framed degrees: B.S., M.S., and Ph.D. It was a delightful experience!\"\n",
    "    ],\n",
    "    [\n",
    "        \"Once, I took a school trip to Washington, D.C. to see the White House. While I was there, I was amazed by the stunning artwork and the notable individuals with titles like Professor, Esquire, and more.\",\n",
    "        \"During a class excursion to Washington, D.C., I had the opportunity to visit the White House. I was struck by the beautiful art and the distinguished people holding titles such as Prof., Esq., and others.\"\n",
    "    ]\n",
    "    \n",
    "]"
   ]
  },
  {
   "cell_type": "code",
   "execution_count": 11,
   "id": "dfa19681-7702-43ca-9501-b40fc7abf013",
   "metadata": {
    "tags": []
   },
   "outputs": [
    {
     "data": {
      "text/plain": [
       "[['Hello there!',\n",
       "  'Today I visited Dr. Chauhan at his home.',\n",
       "  'He was hanging his framed B.S., M.S., and Ph.D. degrees.',\n",
       "  'It was fun!'],\n",
       " ['One time I went on a class trip to D.C. to visit the white house.',\n",
       "  'While there, I felt in awe of the beutiful art and important people with titles such as Prof., Esq., and others.']]"
      ]
     },
     "execution_count": 11,
     "metadata": {},
     "output_type": "execute_result"
    }
   ],
   "source": [
    "# Decompose into sentences\n",
    "rd.decompose_sentences(responses=responses)"
   ]
  },
  {
   "cell_type": "code",
   "execution_count": 12,
   "id": "f4080394-2088-4d28-9cc2-3ae8484a47ce",
   "metadata": {
    "tags": []
   },
   "outputs": [
    {
     "data": {
      "text/plain": [
       "[['I visited Dr. Chauhan.\\n',\n",
       "  'I visited Dr. Chauhan at his home.\\n',\n",
       "  'Dr. Chauhan was hanging his degrees.\\n',\n",
       "  'Dr. Chauhan was hanging his B.S. degree.\\n',\n",
       "  'Dr. Chauhan was hanging his M.S. degree.\\n',\n",
       "  'Dr. Chauhan was hanging his Ph.D. degree.\\n',\n",
       "  \"Dr. Chauhan's degrees were framed.\\n\",\n",
       "  'It was fun.\\n'],\n",
       " ['I went on a class trip.\\n',\n",
       "  'The class trip was to D.C.\\n',\n",
       "  'I visited the white house.\\n',\n",
       "  'I felt in awe.\\n',\n",
       "  'The art was beautiful.\\n',\n",
       "  'The people were important.\\n',\n",
       "  'The people had titles.\\n',\n",
       "  'The titles included Prof..\\n',\n",
       "  'The titles included Esq..\\n',\n",
       "  'The titles included others.\\n\\n']]"
      ]
     },
     "execution_count": 12,
     "metadata": {},
     "output_type": "execute_result"
    }
   ],
   "source": [
    "# Decompose into claims\n",
    "await rd.decompose_claims(responses=responses)"
   ]
  },
  {
   "cell_type": "code",
   "execution_count": 15,
   "id": "cade8967-64e4-4cc4-91d6-d4317df93828",
   "metadata": {},
   "outputs": [
    {
     "data": {
      "text/plain": [
       "[[['I went to see Dr. Chauhan.\\n',\n",
       "   'I went to see Dr. Chauhan at his house.\\n',\n",
       "   'I went to see Dr. Chauhan today.\\n',\n",
       "   'Dr. Chauhan was busy.\\n',\n",
       "   'Dr. Chauhan was putting up diplomas.\\n',\n",
       "   'Dr. Chauhan was putting up framed diplomas.\\n',\n",
       "   \"Dr. Chauhan's diplomas were framed.\\n\",\n",
       "   \"Dr. Chauhan's diplomas were B.S. diplomas.\\n\",\n",
       "   \"Dr. Chauhan's diplomas were M.S. diplomas.\\n\",\n",
       "   \"Dr. Chauhan's diplomas were Ph.D. diplomas.\\n\",\n",
       "   'It was enjoyable.\\n'],\n",
       "  [\"I stopped by Dr. Chauhan's home.\\n\",\n",
       "   'Dr. Chauhan was displaying his framed degrees.\\n',\n",
       "   'Dr. Chauhan has a B.S. degree.\\n',\n",
       "   'Dr. Chauhan has an M.S. degree.\\n',\n",
       "   'Dr. Chauhan has a Ph.D. degree.\\n',\n",
       "   'The experience was delightful.\\n']],\n",
       " [['I took a school trip.\\n',\n",
       "   'The school trip was to Washington, D.C.\\n',\n",
       "   'I went to see the White House.\\n',\n",
       "   'I was amazed by the artwork.\\n',\n",
       "   'The artwork was stunning.\\n',\n",
       "   'I was amazed by the individuals.\\n',\n",
       "   'The individuals were notable.\\n',\n",
       "   'The individuals had titles.\\n',\n",
       "   'The titles included Professor.\\n',\n",
       "   'The titles included Esquire.\\n\\n'],\n",
       "  ['I had the opportunity to visit the White House.\\n',\n",
       "   'The visit was during a class excursion.\\n',\n",
       "   'The class excursion was to Washington, D.C.\\n',\n",
       "   'I was struck by the beautiful art.\\n',\n",
       "   'I was struck by the distinguished people.\\n',\n",
       "   'The distinguished people held titles.\\n',\n",
       "   'The titles included Prof.\\n',\n",
       "   'The titles included Esq.\\n',\n",
       "   'The titles included others.\\n\\n']]]"
      ]
     },
     "execution_count": 15,
     "metadata": {},
     "output_type": "execute_result"
    }
   ],
   "source": [
    "# Decompose sampled responses into claims\n",
    "await rd.decompose_candidate_claims(sampled_responses=sampled_responses)"
   ]
  },
  {
   "cell_type": "code",
   "execution_count": null,
   "id": "50b7d5c4-e672-4cb0-b7fd-d671b79ca98c",
   "metadata": {},
   "outputs": [],
   "source": []
  },
  {
   "cell_type": "code",
   "execution_count": null,
   "id": "262d4d0a-584b-4144-8ef2-f14927d5cca8",
   "metadata": {},
   "outputs": [],
   "source": []
  }
 ],
 "metadata": {
  "environment": {
   "kernel": "uqlm_my_test",
   "name": "workbench-notebooks.m126",
   "type": "gcloud",
   "uri": "us-docker.pkg.dev/deeplearning-platform-release/gcr.io/workbench-notebooks:m126"
  },
  "kernelspec": {
   "display_name": "uqlm_my_test",
   "language": "python",
   "name": "uqlm_my_test"
  },
  "language_info": {
   "codemirror_mode": {
    "name": "ipython",
    "version": 3
   },
   "file_extension": ".py",
   "mimetype": "text/x-python",
   "name": "python",
   "nbconvert_exporter": "python",
   "pygments_lexer": "ipython3",
   "version": "3.11.12"
  }
 },
 "nbformat": 4,
 "nbformat_minor": 5
}
